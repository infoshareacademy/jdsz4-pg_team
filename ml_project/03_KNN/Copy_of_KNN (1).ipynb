{
  "nbformat": 4,
  "nbformat_minor": 0,
  "metadata": {
    "kernelspec": {
      "display_name": "Python 3",
      "language": "python",
      "name": "python3"
    },
    "language_info": {
      "codemirror_mode": {
        "name": "ipython",
        "version": 3
      },
      "file_extension": ".py",
      "mimetype": "text/x-python",
      "name": "python",
      "nbconvert_exporter": "python",
      "pygments_lexer": "ipython3",
      "version": "3.7.6"
    },
    "colab": {
      "name": "Copy of KNN.ipynb",
      "provenance": [],
      "toc_visible": true
    }
  },
  "cells": [
    {
      "cell_type": "code",
      "metadata": {
        "id": "Wx-isK25a_1e",
        "colab_type": "code",
        "colab": {}
      },
      "source": [
        "import pandas as pd\n",
        "import numpy as np\n",
        "\n",
        "from sklearn import preprocessing\n",
        "\n",
        "from sklearn.ensemble import RandomForestClassifier\n",
        "from sklearn.tree import DecisionTreeClassifier\n",
        "from sklearn.neighbors import KNeighborsClassifier, RadiusNeighborsClassifier\n",
        "from sklearn.metrics import accuracy_score\n",
        "\n",
        "from sklearn.model_selection import train_test_split, cross_val_score\n",
        "from sklearn.model_selection import GridSearchCV\n",
        "\n",
        "import matplotlib.pyplot as plt"
      ],
      "execution_count": 0,
      "outputs": []
    },
    {
      "cell_type": "code",
      "metadata": {
        "id": "Q_FVmm7Ga_1n",
        "colab_type": "code",
        "colab": {}
      },
      "source": [
        "df = pd.read_csv('mushrooms.csv')\n"
      ],
      "execution_count": 0,
      "outputs": []
    },
    {
      "cell_type": "markdown",
      "metadata": {
        "id": "njJoWmbQa_1v",
        "colab_type": "text"
      },
      "source": [
        "# One Hot Encoding - with 'odor' feature"
      ]
    },
    {
      "cell_type": "code",
      "metadata": {
        "id": "e8bXtyI9a_12",
        "colab_type": "code",
        "outputId": "a83fe4b3-0e83-448f-9844-6c7ea08255a2",
        "colab": {
          "base_uri": "https://localhost:8080/",
          "height": 34
        }
      },
      "source": [
        "x_o = pd.get_dummies(df.drop(['veil-type', 'class'],axis=1))\n",
        "a = pd.get_dummies(df['class'])\n",
        "y_o = a.drop(['p'],axis=1).to_numpy().ravel()\n",
        "print(y)"
      ],
      "execution_count": 52,
      "outputs": [
        {
          "output_type": "stream",
          "text": [
            "[0 1 1 ... 1 0 1]\n"
          ],
          "name": "stdout"
        }
      ]
    },
    {
      "cell_type": "markdown",
      "metadata": {
        "id": "e-74O1QAa_19",
        "colab_type": "text"
      },
      "source": [
        "# Split Train - Test - with 'odor' feature"
      ]
    },
    {
      "cell_type": "code",
      "metadata": {
        "id": "J6ZNeYWMa_1_",
        "colab_type": "code",
        "colab": {}
      },
      "source": [
        "x_train_o, x_test_o, y_train_o, y_test_o = train_test_split(x_o, y_o, test_size=0.33, random_state=0)"
      ],
      "execution_count": 0,
      "outputs": []
    },
    {
      "cell_type": "markdown",
      "metadata": {
        "id": "ELiMYJCEa_2E",
        "colab_type": "text"
      },
      "source": [
        "# Looking for the best parameters - with 'odor' feature"
      ]
    },
    {
      "cell_type": "code",
      "metadata": {
        "id": "q1-GU7yFa_2H",
        "colab_type": "code",
        "outputId": "e34218bd-f8bd-4096-e638-6000cdde45b5",
        "colab": {
          "base_uri": "https://localhost:8080/",
          "height": 34
        }
      },
      "source": [
        "params = {\"n_neighbors\": range(2, 101),\n",
        "          \"p\": range(1,2),\n",
        "          \"weights\": [\"uniform\", \"distance\"]}\n",
        "\n",
        "knn = KNeighborsClassifier()\n",
        "\n",
        "knn_classifier_search = GridSearchCV(knn, params, cv=5)\n",
        "knn_classifier_search.fit(x_train_o, y_train_o)\n",
        "knn_classifier_search.best_params_"
      ],
      "execution_count": 55,
      "outputs": [
        {
          "output_type": "execute_result",
          "data": {
            "text/plain": [
              "{'n_neighbors': 2, 'p': 1, 'weights': 'uniform'}"
            ]
          },
          "metadata": {
            "tags": []
          },
          "execution_count": 55
        }
      ]
    },
    {
      "cell_type": "code",
      "metadata": {
        "id": "nVPhmChwa_2e",
        "colab_type": "code",
        "outputId": "ec9bc8c0-ca77-40a6-c0b5-f5666ff5c831",
        "colab": {
          "base_uri": "https://localhost:8080/",
          "height": 68
        }
      },
      "source": [
        "best_knn_classifier = \\\n",
        "    KNeighborsClassifier(n_neighbors=knn_classifier_search.best_params_[\"n_neighbors\"],\n",
        "                           p=knn_classifier_search.best_params_[\"p\"],\n",
        "                           weights=knn_classifier_search.best_params_[\"weights\"])\n",
        "best_knn_classifier.fit(x_train_o, y_train_o)\n",
        "print(best_knn_classifier.score(x_test_o, y_test_o))\n",
        "y_pred_o = best_knn_classifier.predict(x_test_o)\n",
        "print(y_pred_o)\n",
        "print(accuracy_score(y_test_o,y_pred_o))"
      ],
      "execution_count": 56,
      "outputs": [
        {
          "output_type": "stream",
          "text": [
            "1.0\n",
            "[0 1 1 ... 0 1 0]\n",
            "1.0\n"
          ],
          "name": "stdout"
        }
      ]
    },
    {
      "cell_type": "code",
      "metadata": {
        "id": "w2omx-BIewuB",
        "colab_type": "code",
        "outputId": "87f5f29d-4d57-46ec-fa1f-cee1f4fb319f",
        "colab": {
          "base_uri": "https://localhost:8080/",
          "height": 51
        }
      },
      "source": [
        "best_score_r = 0.0\n",
        "best_params_r = {}\n",
        "\n",
        "for i in range(1, 51):\n",
        "    r = i / 20\n",
        "    for w in [\"uniform\", \"distance\"]:\n",
        "        for p in [1, 2]:\n",
        "            classifier = RadiusNeighborsClassifier(radius=r, p=p, weights=w)\n",
        "            try:\n",
        "                scores = cross_val_score(classifier, x_train_o, y_train_o, cv=5)\n",
        "                score = scores.mean()\n",
        "            except ValueError:\n",
        "                score = 0.0\n",
        "            if score > best_score_r:\n",
        "                best_score_r = score\n",
        "                best_params_r[\"radius\"] = r\n",
        "                best_params_r[\"weights\"] = w\n",
        "                best_params_r[\"p\"] = p\n",
        "print(best_score_r)\n",
        "print(best_params_r)"
      ],
      "execution_count": 67,
      "outputs": [
        {
          "output_type": "stream",
          "text": [
            "1.0\n",
            "{'radius': 2.0, 'weights': 'uniform', 'p': 2}\n"
          ],
          "name": "stdout"
        }
      ]
    },
    {
      "cell_type": "code",
      "metadata": {
        "id": "NKztVW9-e3F9",
        "colab_type": "code",
        "colab": {
          "base_uri": "https://localhost:8080/",
          "height": 51
        },
        "outputId": "e3fe7199-5a56-45f4-8165-4f9ddb1b53c6"
      },
      "source": [
        "classifier_r = RadiusNeighborsClassifier(radius=best_params_r[\"radius\"],\n",
        "                                       p=best_params_r[\"p\"],\n",
        "                                       weights=best_params_r[\"weights\"])\n",
        "classifier_r.fit(x_train_o, y_train_o)\n",
        "y_predr_o = classifier_r.predict(x_test_o)\n",
        "print(y_predr_o)\n",
        "print(accuracy_score(y_test_o, y_predr_o))"
      ],
      "execution_count": 68,
      "outputs": [
        {
          "output_type": "stream",
          "text": [
            "[0 1 1 ... 0 1 0]\n",
            "1.0\n"
          ],
          "name": "stdout"
        }
      ]
    },
    {
      "cell_type": "markdown",
      "metadata": {
        "id": "6Q-1SNc-a_2r",
        "colab_type": "text"
      },
      "source": [
        "# One Hot Encoding - without 'odor' feature"
      ]
    },
    {
      "cell_type": "code",
      "metadata": {
        "id": "8eg_P1zSa_2t",
        "colab_type": "code",
        "colab": {
          "base_uri": "https://localhost:8080/",
          "height": 34
        },
        "outputId": "82345cb9-19b5-47a1-f33c-62def7662568"
      },
      "source": [
        "x = pd.get_dummies(df.drop(['veil-type', 'class', 'odor'],axis=1))\n",
        "a = pd.get_dummies(df['class'])\n",
        "y = a.drop(['p'],axis=1).to_numpy().ravel()\n",
        "print(y)"
      ],
      "execution_count": 58,
      "outputs": [
        {
          "output_type": "stream",
          "text": [
            "[0 1 1 ... 1 0 1]\n"
          ],
          "name": "stdout"
        }
      ]
    },
    {
      "cell_type": "markdown",
      "metadata": {
        "id": "7qFSxq0Xa_2z",
        "colab_type": "text"
      },
      "source": [
        "# Split Train - Test - without 'odor' feature"
      ]
    },
    {
      "cell_type": "code",
      "metadata": {
        "id": "GmZzLeVpa_21",
        "colab_type": "code",
        "colab": {}
      },
      "source": [
        "x_train, x_test, y_train, y_test = train_test_split(x, y, test_size=0.33, random_state=0)"
      ],
      "execution_count": 0,
      "outputs": []
    },
    {
      "cell_type": "markdown",
      "metadata": {
        "id": "QZAMXFSca_26",
        "colab_type": "text"
      },
      "source": [
        "# Looking for the best parameters - without 'odor' feature"
      ]
    },
    {
      "cell_type": "code",
      "metadata": {
        "id": "7lb5Y1cta_29",
        "colab_type": "code",
        "colab": {
          "base_uri": "https://localhost:8080/",
          "height": 34
        },
        "outputId": "acf94a1f-3b42-4543-d89e-3b15ab8137a5"
      },
      "source": [
        "params = {\"n_neighbors\": range(2, 101),\n",
        "          \"p\": range(1,2),\n",
        "          \"weights\": [\"uniform\", \"distance\"]}\n",
        "\n",
        "knn = KNeighborsClassifier()\n",
        "\n",
        "knn_classifier_search = GridSearchCV(knn, params, cv=5)\n",
        "knn_classifier_search.fit(x_train, y_train)\n",
        "knn_classifier_search.best_params_"
      ],
      "execution_count": 60,
      "outputs": [
        {
          "output_type": "execute_result",
          "data": {
            "text/plain": [
              "{'n_neighbors': 2, 'p': 1, 'weights': 'uniform'}"
            ]
          },
          "metadata": {
            "tags": []
          },
          "execution_count": 60
        }
      ]
    },
    {
      "cell_type": "code",
      "metadata": {
        "id": "royioaG7a_3E",
        "colab_type": "code",
        "colab": {
          "base_uri": "https://localhost:8080/",
          "height": 68
        },
        "outputId": "2a4379b2-1f5e-4446-8c8a-8ab355e15678"
      },
      "source": [
        "best_knn_classifier = \\\n",
        "    KNeighborsClassifier(n_neighbors=knn_classifier_search.best_params_[\"n_neighbors\"],\n",
        "                           p=knn_classifier_search.best_params_[\"p\"],\n",
        "                           weights=knn_classifier_search.best_params_[\"weights\"])\n",
        "best_knn_classifier.fit(x_train, y_train)\n",
        "print(best_knn_classifier.score(x_test, y_test))\n",
        "y_pred = best_knn_classifier.predict(x_test)\n",
        "print(y_pred)\n",
        "print(accuracy_score(y_test,y_pred))"
      ],
      "execution_count": 62,
      "outputs": [
        {
          "output_type": "stream",
          "text": [
            "1.0\n",
            "[0 1 1 ... 0 1 0]\n",
            "1.0\n"
          ],
          "name": "stdout"
        }
      ]
    },
    {
      "cell_type": "code",
      "metadata": {
        "id": "mSh6TWcZa_3K",
        "colab_type": "code",
        "colab": {
          "base_uri": "https://localhost:8080/",
          "height": 51
        },
        "outputId": "240b45f3-39f0-42bd-9d04-468e80297e8a"
      },
      "source": [
        "best_score_r = 0.0\n",
        "best_params_r = {}\n",
        "\n",
        "for i in range(1, 51):\n",
        "    r = i / 20\n",
        "    for w in [\"uniform\", \"distance\"]:\n",
        "        for p in [1, 2]:\n",
        "            classifier = RadiusNeighborsClassifier(radius=r, p=p, weights=w)\n",
        "            try:\n",
        "                scores = cross_val_score(classifier, x_train, y_train, cv=5)\n",
        "                score = scores.mean()\n",
        "            except ValueError:\n",
        "                score = 0.0\n",
        "            if score > best_score_r:\n",
        "                best_score_r = score\n",
        "                best_params_r[\"radius\"] = r\n",
        "                best_params_r[\"weights\"] = w\n",
        "                best_params_r[\"p\"] = p\n",
        "print(best_score_r)\n",
        "print(best_params_r)"
      ],
      "execution_count": 69,
      "outputs": [
        {
          "output_type": "stream",
          "text": [
            "1.0\n",
            "{'radius': 2.0, 'weights': 'uniform', 'p': 2}\n"
          ],
          "name": "stdout"
        }
      ]
    },
    {
      "cell_type": "code",
      "metadata": {
        "id": "vPf2sWOVa_3S",
        "colab_type": "code",
        "colab": {
          "base_uri": "https://localhost:8080/",
          "height": 51
        },
        "outputId": "d84bcd86-cc68-4bc5-92a9-4eb6e62767a0"
      },
      "source": [
        "classifier_r = RadiusNeighborsClassifier(radius=best_params_r[\"radius\"],\n",
        "                                       p=best_params_r[\"p\"],\n",
        "                                       weights=best_params_r[\"weights\"])\n",
        "classifier_r.fit(x_train, y_train)\n",
        "y_predr = classifier_r.predict(x_test)\n",
        "print(y_predr)\n",
        "print(accuracy_score(y_test, y_predr))"
      ],
      "execution_count": 71,
      "outputs": [
        {
          "output_type": "stream",
          "text": [
            "[0 1 1 ... 0 1 0]\n",
            "1.0\n"
          ],
          "name": "stdout"
        }
      ]
    },
    {
      "cell_type": "code",
      "metadata": {
        "id": "7tsorybZa_3X",
        "colab_type": "code",
        "colab": {}
      },
      "source": [
        ""
      ],
      "execution_count": 0,
      "outputs": []
    },
    {
      "cell_type": "code",
      "metadata": {
        "id": "NCL7M1lva_3b",
        "colab_type": "code",
        "colab": {}
      },
      "source": [
        ""
      ],
      "execution_count": 0,
      "outputs": []
    }
  ]
}