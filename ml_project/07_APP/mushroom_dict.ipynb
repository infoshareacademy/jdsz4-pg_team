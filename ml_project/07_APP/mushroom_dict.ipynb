{
 "cells": [
  {
   "cell_type": "code",
   "execution_count": 1,
   "metadata": {},
   "outputs": [],
   "source": [
    "import pandas as pd\n",
    "import json"
   ]
  },
  {
   "cell_type": "code",
   "execution_count": 2,
   "metadata": {},
   "outputs": [],
   "source": [
    "mushrooms = pd.read_csv('mushrooms.csv')"
   ]
  },
  {
   "cell_type": "code",
   "execution_count": 3,
   "metadata": {},
   "outputs": [
    {
     "data": {
      "text/plain": [
       "Index(['class', 'cap-shape', 'cap-surface', 'cap-color', 'bruises', 'odor',\n",
       "       'gill-attachment', 'gill-spacing', 'gill-size', 'gill-color',\n",
       "       'stalk-shape', 'stalk-root', 'stalk-surface-above-ring',\n",
       "       'stalk-surface-below-ring', 'stalk-color-above-ring',\n",
       "       'stalk-color-below-ring', 'veil-type', 'veil-color', 'ring-number',\n",
       "       'ring-type', 'spore-print-color', 'population', 'habitat'],\n",
       "      dtype='object')"
      ]
     },
     "execution_count": 3,
     "metadata": {},
     "output_type": "execute_result"
    }
   ],
   "source": [
    "columns = mushrooms.columns\n",
    "columns"
   ]
  },
  {
   "cell_type": "code",
   "execution_count": 4,
   "metadata": {},
   "outputs": [
    {
     "data": {
      "text/plain": [
       "Index(['class', 'cap-shape', 'cap-surface', 'cap-color', 'bruises', 'odor',\n",
       "       'gill-attachment', 'gill-spacing', 'gill-size', 'gill-color',\n",
       "       'stalk-shape', 'stalk-root', 'stalk-surface-above-ring',\n",
       "       'stalk-surface-below-ring', 'stalk-color-above-ring',\n",
       "       'stalk-color-below-ring', 'veil-color', 'ring-number', 'ring-type',\n",
       "       'spore-print-color', 'population', 'habitat'],\n",
       "      dtype='object')"
      ]
     },
     "execution_count": 4,
     "metadata": {},
     "output_type": "execute_result"
    }
   ],
   "source": [
    "# pomijamy kolumnę 'veil-type'\n",
    "\n",
    "chosen_columns = columns.drop(['veil-type'])\n",
    "chosen_columns"
   ]
  },
  {
   "cell_type": "code",
   "execution_count": 5,
   "metadata": {},
   "outputs": [],
   "source": [
    "def column_descr_dict(descr):\n",
    "    column = descr.split(sep=':')[0]\n",
    "    feats = descr.split(sep=':')[1]\n",
    "    pairs = feats.split(',')\n",
    "\n",
    "    column_descr_dict = {}\n",
    "\n",
    "    for pair in pairs:\n",
    "        name = pair.split(sep='=')[0].strip()\n",
    "        symbol = pair.split(sep='=')[1].strip()\n",
    "        column_descr_dict[name] = symbol\n",
    "    \n",
    "    column_descr_dict\n",
    "    \n",
    "    return column, column_descr_dict"
   ]
  },
  {
   "cell_type": "code",
   "execution_count": 6,
   "metadata": {},
   "outputs": [],
   "source": [
    "whole_descr = ['cap-shape: bell=b,conical=c,convex=x,flat=f, knobbed=k,sunken=s', \n",
    "               'cap-surface: fibrous=f,grooves=g,scaly=y,smooth=s', \n",
    "               'cap-color: brown=n,buff=b,cinnamon=c,gray=g,green=r,pink=p,purple=u,red=e,white=w,yellow=y', \n",
    "               'bruises: bruises=t,no=f', \n",
    "               'odor: almond=a,anise=l,creosote=c,fishy=y,foul=f,musty=m,none=n,pungent=p,spicy=s',\n",
    "               'gill-attachment: attached=a,descending=d,free=f,notched=n', \n",
    "               'gill-spacing: close=c,crowded=w,distant=d', \n",
    "               'gill-size: broad=b,narrow=n', \n",
    "               'gill-color: black=k,brown=n,buff=b,chocolate=h,gray=g, green=r,orange=o,pink=p,purple=u,red=e,white=w,yellow=y', \n",
    "               'stalk-shape: enlarging=e,tapering=t', \n",
    "               'stalk-root: bulbous=b,club=c,cup=u,equal=e,rhizomorphs=z,rooted=r,missing=?', \n",
    "               'stalk-surface-above-ring: fibrous=f,scaly=y,silky=k,smooth=s', \n",
    "               'stalk-surface-below-ring: fibrous=f,scaly=y,silky=k,smooth=s', \n",
    "               'stalk-color-above-ring: brown=n,buff=b,cinnamon=c,gray=g,orange=o,pink=p,red=e,white=w,yellow=y', \n",
    "               'stalk-color-below-ring: brown=n,buff=b,cinnamon=c,gray=g,orange=o,pink=p,red=e,white=w,yellow=y', \n",
    "               'veil-type: partial=p,universal=u', \n",
    "               'veil-color: brown=n,orange=o,white=w,yellow=y',\n",
    "               'ring-number: none=n,one=o,two=t', \n",
    "               'ring-type: cobwebby=c,evanescent=e,flaring=f,large=l,none=n,pendant=p,sheathing=s,zone=z', \n",
    "               'spore-print-color: black=k,brown=n,buff=b,chocolate=h,green=r,orange=o,purple=u,white=w,yellow=y',\n",
    "               'population: abundant=a,clustered=c,numerous=n,scattered=s,several=v,solitary=y', \n",
    "               'habitat: grasses=g,leaves=l,meadows=m,paths=p,urban=u,waste=w,woods=d']"
   ]
  },
  {
   "cell_type": "code",
   "execution_count": 7,
   "metadata": {},
   "outputs": [
    {
     "data": {
      "text/plain": [
       "{'cap-shape': {'bell': 'b',\n",
       "  'conical': 'c',\n",
       "  'convex': 'x',\n",
       "  'flat': 'f',\n",
       "  'knobbed': 'k',\n",
       "  'sunken': 's'},\n",
       " 'cap-surface': {'fibrous': 'f', 'grooves': 'g', 'scaly': 'y', 'smooth': 's'},\n",
       " 'cap-color': {'brown': 'n',\n",
       "  'buff': 'b',\n",
       "  'cinnamon': 'c',\n",
       "  'gray': 'g',\n",
       "  'green': 'r',\n",
       "  'pink': 'p',\n",
       "  'purple': 'u',\n",
       "  'red': 'e',\n",
       "  'white': 'w',\n",
       "  'yellow': 'y'},\n",
       " 'bruises': {'bruises': 't', 'no': 'f'},\n",
       " 'odor': {'almond': 'a',\n",
       "  'anise': 'l',\n",
       "  'creosote': 'c',\n",
       "  'fishy': 'y',\n",
       "  'foul': 'f',\n",
       "  'musty': 'm',\n",
       "  'none': 'n',\n",
       "  'pungent': 'p',\n",
       "  'spicy': 's'},\n",
       " 'gill-attachment': {'attached': 'a',\n",
       "  'descending': 'd',\n",
       "  'free': 'f',\n",
       "  'notched': 'n'},\n",
       " 'gill-spacing': {'close': 'c', 'crowded': 'w', 'distant': 'd'},\n",
       " 'gill-size': {'broad': 'b', 'narrow': 'n'},\n",
       " 'gill-color': {'black': 'k',\n",
       "  'brown': 'n',\n",
       "  'buff': 'b',\n",
       "  'chocolate': 'h',\n",
       "  'gray': 'g',\n",
       "  'green': 'r',\n",
       "  'orange': 'o',\n",
       "  'pink': 'p',\n",
       "  'purple': 'u',\n",
       "  'red': 'e',\n",
       "  'white': 'w',\n",
       "  'yellow': 'y'},\n",
       " 'stalk-shape': {'enlarging': 'e', 'tapering': 't'},\n",
       " 'stalk-root': {'bulbous': 'b',\n",
       "  'club': 'c',\n",
       "  'cup': 'u',\n",
       "  'equal': 'e',\n",
       "  'rhizomorphs': 'z',\n",
       "  'rooted': 'r',\n",
       "  'missing': '?'},\n",
       " 'stalk-surface-above-ring': {'fibrous': 'f',\n",
       "  'scaly': 'y',\n",
       "  'silky': 'k',\n",
       "  'smooth': 's'},\n",
       " 'stalk-surface-below-ring': {'fibrous': 'f',\n",
       "  'scaly': 'y',\n",
       "  'silky': 'k',\n",
       "  'smooth': 's'},\n",
       " 'stalk-color-above-ring': {'brown': 'n',\n",
       "  'buff': 'b',\n",
       "  'cinnamon': 'c',\n",
       "  'gray': 'g',\n",
       "  'orange': 'o',\n",
       "  'pink': 'p',\n",
       "  'red': 'e',\n",
       "  'white': 'w',\n",
       "  'yellow': 'y'},\n",
       " 'stalk-color-below-ring': {'brown': 'n',\n",
       "  'buff': 'b',\n",
       "  'cinnamon': 'c',\n",
       "  'gray': 'g',\n",
       "  'orange': 'o',\n",
       "  'pink': 'p',\n",
       "  'red': 'e',\n",
       "  'white': 'w',\n",
       "  'yellow': 'y'},\n",
       " 'veil-type': {'partial': 'p', 'universal': 'u'},\n",
       " 'veil-color': {'brown': 'n', 'orange': 'o', 'white': 'w', 'yellow': 'y'},\n",
       " 'ring-number': {'none': 'n', 'one': 'o', 'two': 't'},\n",
       " 'ring-type': {'cobwebby': 'c',\n",
       "  'evanescent': 'e',\n",
       "  'flaring': 'f',\n",
       "  'large': 'l',\n",
       "  'none': 'n',\n",
       "  'pendant': 'p',\n",
       "  'sheathing': 's',\n",
       "  'zone': 'z'},\n",
       " 'spore-print-color': {'black': 'k',\n",
       "  'brown': 'n',\n",
       "  'buff': 'b',\n",
       "  'chocolate': 'h',\n",
       "  'green': 'r',\n",
       "  'orange': 'o',\n",
       "  'purple': 'u',\n",
       "  'white': 'w',\n",
       "  'yellow': 'y'},\n",
       " 'population': {'abundant': 'a',\n",
       "  'clustered': 'c',\n",
       "  'numerous': 'n',\n",
       "  'scattered': 's',\n",
       "  'several': 'v',\n",
       "  'solitary': 'y'},\n",
       " 'habitat': {'grasses': 'g',\n",
       "  'leaves': 'l',\n",
       "  'meadows': 'm',\n",
       "  'paths': 'p',\n",
       "  'urban': 'u',\n",
       "  'waste': 'w',\n",
       "  'woods': 'd'}}"
      ]
     },
     "execution_count": 7,
     "metadata": {},
     "output_type": "execute_result"
    }
   ],
   "source": [
    "descr_dict = dict([column_descr_dict(s) for s in whole_descr])\n",
    "descr_dict\n",
    "\n",
    "# list/dict comprehension zamiast for!!!"
   ]
  },
  {
   "cell_type": "code",
   "execution_count": 8,
   "metadata": {},
   "outputs": [],
   "source": [
    "with open('descr_dict.json', 'w') as file:\n",
    "    json.dump(descr_dict, file)"
   ]
  }
 ],
 "metadata": {
  "kernelspec": {
   "display_name": "Python 3",
   "language": "python",
   "name": "python3"
  },
  "language_info": {
   "codemirror_mode": {
    "name": "ipython",
    "version": 3
   },
   "file_extension": ".py",
   "mimetype": "text/x-python",
   "name": "python",
   "nbconvert_exporter": "python",
   "pygments_lexer": "ipython3",
   "version": "3.7.6"
  }
 },
 "nbformat": 4,
 "nbformat_minor": 2
}
