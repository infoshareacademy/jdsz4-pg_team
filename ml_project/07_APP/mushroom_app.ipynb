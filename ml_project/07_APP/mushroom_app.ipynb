{
 "cells": [
  {
   "cell_type": "markdown",
   "metadata": {},
   "source": [
    "# APK"
   ]
  },
  {
   "cell_type": "code",
   "execution_count": 1,
   "metadata": {},
   "outputs": [],
   "source": [
    "import pandas as pd\n",
    "import ipywidgets as widgets\n",
    "import json\n",
    "from joblib import load\n",
    "import matplotlib.pyplot as plt\n",
    "import matplotlib.image as mpimg\n",
    "import time\n",
    "from IPython.display import clear_output"
   ]
  },
  {
   "cell_type": "code",
   "execution_count": 2,
   "metadata": {},
   "outputs": [],
   "source": [
    "mushrooms = pd.read_csv('data/mushrooms.csv')"
   ]
  },
  {
   "cell_type": "code",
   "execution_count": 3,
   "metadata": {},
   "outputs": [],
   "source": [
    "img_poisonous=mpimg.imread('poisonous.jpg')\n",
    "img_correct=mpimg.imread('edible.jpg')\n",
    "\n",
    "def plt_results(predicted): \n",
    "    img = img_correct if predicted else img_poisonous\n",
    "    imgplot = plt.imshow(img)\n",
    "    plt.xticks([]), plt.yticks([])\n",
    "    plt.show()"
   ]
  },
  {
   "cell_type": "code",
   "execution_count": 4,
   "metadata": {},
   "outputs": [],
   "source": [
    "descr_dict = json.load(open('descr_dict.json'))\n",
    "# descr_dict"
   ]
  },
  {
   "cell_type": "code",
   "execution_count": 5,
   "metadata": {},
   "outputs": [
    {
     "data": {
      "text/plain": [
       "SVC(C=1.0, break_ties=False, cache_size=200, class_weight=None, coef0=0.0,\n",
       "    decision_function_shape='ovr', degree=3, gamma='scale', kernel='poly',\n",
       "    max_iter=-1, probability=False, random_state=None, shrinking=True,\n",
       "    tol=0.001, verbose=False)"
      ]
     },
     "execution_count": 5,
     "metadata": {},
     "output_type": "execute_result"
    }
   ],
   "source": [
    "loaded_model = load('model.joblib')\n",
    "loaded_model"
   ]
  },
  {
   "cell_type": "code",
   "execution_count": 6,
   "metadata": {},
   "outputs": [],
   "source": [
    "def column_options_dropdown(column_name):\n",
    "    options = []\n",
    "    for option,symbol in descr_dict[column_name].items():\n",
    "        options.append(option)\n",
    "\n",
    "    feat_widget = widgets.Dropdown(description=column_name + ': ', options=options)\n",
    "\n",
    "    return feat_widget\n",
    "  "
   ]
  },
  {
   "cell_type": "code",
   "execution_count": 7,
   "metadata": {},
   "outputs": [],
   "source": [
    "widget_list = ['cap-shape', 'cap-surface', 'cap-color', 'bruises', 'veil-color']\n",
    "feat_widgets = {}\n",
    "for w in widget_list:\n",
    "    feat_widgets[w] = column_options_dropdown(w)"
   ]
  },
  {
   "cell_type": "code",
   "execution_count": 9,
   "metadata": {},
   "outputs": [
    {
     "data": {
      "application/vnd.jupyter.widget-view+json": {
       "model_id": "83b7cab567614b28a1d69bbae3c24db5",
       "version_major": 2,
       "version_minor": 0
      },
      "text/plain": [
       "HTML(value='<h1>MUSHROOMS APP</h1>')"
      ]
     },
     "metadata": {},
     "output_type": "display_data"
    },
    {
     "data": {
      "application/vnd.jupyter.widget-view+json": {
       "model_id": "c206e71792c746889b2ddf4bf7eb21a2",
       "version_major": 2,
       "version_minor": 0
      },
      "text/plain": [
       "Dropdown(description='cap-shape: ', options=('bell', 'conical', 'convex', 'flat', 'knobbed', 'sunken'), value=…"
      ]
     },
     "metadata": {},
     "output_type": "display_data"
    },
    {
     "data": {
      "application/vnd.jupyter.widget-view+json": {
       "model_id": "8efec6955bab467ba7a2b3d78102d331",
       "version_major": 2,
       "version_minor": 0
      },
      "text/plain": [
       "Dropdown(description='cap-surface: ', options=('fibrous', 'grooves', 'scaly', 'smooth'), value='fibrous')"
      ]
     },
     "metadata": {},
     "output_type": "display_data"
    },
    {
     "data": {
      "application/vnd.jupyter.widget-view+json": {
       "model_id": "5ac9b36708fc499a8a7f295f2306ec95",
       "version_major": 2,
       "version_minor": 0
      },
      "text/plain": [
       "Dropdown(description='cap-color: ', index=1, options=('brown', 'buff', 'cinnamon', 'gray', 'green', 'pink', 'p…"
      ]
     },
     "metadata": {},
     "output_type": "display_data"
    },
    {
     "data": {
      "application/vnd.jupyter.widget-view+json": {
       "model_id": "7cedf1dbcd3c491e91f6a3fba4ddfaf5",
       "version_major": 2,
       "version_minor": 0
      },
      "text/plain": [
       "Dropdown(description='bruises: ', index=1, options=('bruises', 'no'), value='no')"
      ]
     },
     "metadata": {},
     "output_type": "display_data"
    },
    {
     "data": {
      "application/vnd.jupyter.widget-view+json": {
       "model_id": "dd2eef1d8926486097cec70f7fad1b13",
       "version_major": 2,
       "version_minor": 0
      },
      "text/plain": [
       "Dropdown(description='veil-color: ', options=('brown', 'orange', 'white', 'yellow'), value='brown')"
      ]
     },
     "metadata": {},
     "output_type": "display_data"
    },
    {
     "data": {
      "application/vnd.jupyter.widget-view+json": {
       "model_id": "ee1cc00425df479885cf06602b28eac5",
       "version_major": 2,
       "version_minor": 0
      },
      "text/plain": [
       "Button(button_style='info', description='Check mushroom', icon='check', style=ButtonStyle(), tooltip='Click me…"
      ]
     },
     "metadata": {},
     "output_type": "display_data"
    },
    {
     "data": {
      "image/png": "[encoded data removed]",
      "text/plain": [
       "<Figure size 432x288 with 1 Axes>"
      ]
     },
     "metadata": {},
     "output_type": "display_data"
    }
   ],
   "source": [
    "button = widgets.Button(\n",
    "    description='Check mushroom',\n",
    "    disabled=False,\n",
    "    button_style='info', # 'success', 'info', 'warning', 'danger' or ''\n",
    "    tooltip='Click me',\n",
    "    icon='check'\n",
    ")\n",
    "button.on_click(run_model)\n",
    "\n",
    "def display_app():\n",
    "    hello = widgets.HTML(\n",
    "        value=\"<h1>MUSHROOMS APP</h1>\"\n",
    "    )\n",
    "    display(hello)\n",
    "    for _, w in feat_widgets.items():\n",
    "        display(w)\n",
    "    display(button)\n",
    "\n",
    "def run_model(self):\n",
    "    clear_output()\n",
    "    display_app()\n",
    "    #tworzy df z wybranymi cechami jako dummy data i wypełnia zerami\n",
    "    model_df = pd.DataFrame(columns = pd.get_dummies(mushrooms[widget_list]).columns)\n",
    "    model_df.loc[0] = [0]*len(model_df.columns)\n",
    "    \n",
    "    chosen_options = {}\n",
    "    for _, w in feat_widgets.items():\n",
    "        chosen_options[w.description]=w.value\n",
    "        #uzupełnia jedynką w tym miejscu, gdzie mamy wybraną wartość cechy\n",
    "        model_df.loc[0, (w.description).strip().replace(':', \"\") + \"_\" + descr_dict[(w.description).strip().replace(':', \"\")][w.value]] = 1\n",
    "#     print(chosen_options)\n",
    "#     print('Podajemy do modelu:')\n",
    "#     print(model_df)\n",
    "    y_pred = loaded_model.predict(model_df)\n",
    "    plt_results(predicted=y_pred[0])\n",
    "    return  y_pred\n",
    "    \n",
    "    \n",
    "\n",
    "\n",
    "display_app()"
   ]
  },
  {
   "cell_type": "code",
   "execution_count": null,
   "metadata": {},
   "outputs": [],
   "source": []
  }
 ],
 "metadata": {
  "kernelspec": {
   "display_name": "Python 3",
   "language": "python",
   "name": "python3"
  },
  "language_info": {
   "codemirror_mode": {
    "name": "ipython",
    "version": 3
   },
   "file_extension": ".py",
   "mimetype": "text/x-python",
   "name": "python",
   "nbconvert_exporter": "python",
   "pygments_lexer": "ipython3",
   "version": "3.7.6"
  }
 },
 "nbformat": 4,
 "nbformat_minor": 2
}
