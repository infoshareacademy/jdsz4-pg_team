{
 "cells": [
  {
   "cell_type": "code",
   "execution_count": 0,
   "metadata": {
    "colab": {},
    "colab_type": "code",
    "id": "yrnR6JU7yuX-"
   },
   "outputs": [],
   "source": [
    "import pandas as pd\n",
    "import xgboost as xgb\n",
    "import numpy as np\n",
    "from sklearn.tree import plot_tree\n",
    "from sklearn.model_selection import train_test_split, cross_val_score\n",
    "from sklearn.metrics import accuracy_score\n",
    "from sklearn.model_selection import GridSearchCV\n",
    "from sklearn.ensemble import RandomForestClassifier"
   ]
  },
  {
   "cell_type": "code",
   "execution_count": 0,
   "metadata": {
    "colab": {},
    "colab_type": "code",
    "id": "WMFVPg7tzPnY"
   },
   "outputs": [],
   "source": [
    "df = pd.read_csv(\"mushrooms.csv\")\n",
    "# df = df.drop(['veil-type', 'odor'], axis=1)"
   ]
  },
  {
   "cell_type": "code",
   "execution_count": 0,
   "metadata": {
    "colab": {},
    "colab_type": "code",
    "id": "HM_Fm7rCzXhs"
   },
   "outputs": [],
   "source": [
    "df = df.drop(['habitat','population','spore-print-color','stalk-root','stalk-surface-above-ring',\n",
    "                 'stalk-surface-below-ring','stalk-color-above-ring','stalk-color-below-ring','veil-type',\n",
    "                'gill-attachment','gill-spacing','gill-size','odor', 'gill-color', 'stalk-shape', 'ring-number', 'ring-type'],axis=1)\n",
    "# df = df.drop(['veil-type', 'odor'], axis=1)"
   ]
  },
  {
   "cell_type": "code",
   "execution_count": 6,
   "metadata": {
    "colab": {
     "base_uri": "https://localhost:8080/",
     "height": 68
    },
    "colab_type": "code",
    "id": "7KotsYL3zk7J",
    "outputId": "b75eb5a0-52f1-4528-d99e-0807e15adb82"
   },
   "outputs": [
    {
     "data": {
      "text/plain": [
       "Index(['class', 'cap-shape', 'cap-surface', 'cap-color', 'bruises',\n",
       "       'veil-color'],\n",
       "      dtype='object')"
      ]
     },
     "execution_count": 6,
     "metadata": {
      "tags": []
     },
     "output_type": "execute_result"
    }
   ],
   "source": [
    "df.columns"
   ]
  },
  {
   "cell_type": "code",
   "execution_count": 0,
   "metadata": {
    "colab": {},
    "colab_type": "code",
    "id": "9SXw552AzpqL"
   },
   "outputs": [],
   "source": [
    "df = pd.get_dummies(df)"
   ]
  },
  {
   "cell_type": "code",
   "execution_count": 0,
   "metadata": {
    "colab": {},
    "colab_type": "code",
    "id": "cm1gK_REzrl4"
   },
   "outputs": [],
   "source": [
    "df = df.drop(['class_e', 'bruises_f'], axis=1)"
   ]
  },
  {
   "cell_type": "code",
   "execution_count": 0,
   "metadata": {
    "colab": {},
    "colab_type": "code",
    "id": "BetBnoTEzslb"
   },
   "outputs": [],
   "source": [
    "y = df['class_p']\n",
    "x = df.drop(['class_p'], axis=1)"
   ]
  },
  {
   "cell_type": "code",
   "execution_count": 0,
   "metadata": {
    "colab": {},
    "colab_type": "code",
    "id": "qdshs0Sdzz21"
   },
   "outputs": [],
   "source": [
    "xgbClf_best_clf_score = []\n",
    "xgbClf_best_acc_score = []\n",
    "rfClf_best_clf_score = []\n",
    "rfClf_best_acc_score = []\n",
    "\n",
    "for i in range(0,6):\n",
    "  x_train, x_test, y_train, y_test = train_test_split(x, y, test_size=0.33, random_state=i)\n",
    "  params = {\"objective\": ['binary:logistic','reg:logistic'],\n",
    "          \"n_estimators\": range(20, 120, 10),\n",
    "          \"learning_rate\" : np.arange(0.1, 1, 0.3),\n",
    "          \"booster\" : ['gbtree', 'gblinear', 'dart']}\n",
    "  xgbClf = xgb.XGBClassifier()\n",
    "\n",
    "  xgbClf_classifier_search = GridSearchCV(xgbClf, params, cv=5, n_jobs=20) \n",
    "  xgbClf_classifier_search.fit(x_train, y_train)\n",
    "  xgbClf_classifier_search.best_params_\n",
    "  best_xgbClf_classifier = \\\n",
    "    xgb.XGBClassifier(booster=xgbClf_classifier_search.best_params_[\"booster\"],\n",
    "                      n_estimators=xgbClf_classifier_search.best_params_[\"n_estimators\"],\n",
    "                      learning_rate=xgbClf_classifier_search.best_params_[\"learning_rate\"],\n",
    "                      objective= xgbClf_classifier_search.best_params_[\"objective\"])\n",
    "  best_xgbClf_classifier.fit(x_train, y_train)\n",
    "  xgbClf_best_clf_score.append(best_xgbClf_classifier.score(x_test, y_test))\n",
    "  y_pred = best_xgbClf_classifier.predict(x_test)\n",
    "  xgbClf_best_acc_score.append(accuracy_score(y_test,y_pred))\n",
    "\n",
    "  # params = {\"min_samples_split\": range(2, 21, 2),\n",
    "          # \"min_samples_leaf\": range(1, 21, 2),\n",
    "          # \"criterion\": [\"gini\", \"entropy\"],\n",
    "          # \"n_estimators\" : range(20, 150, 10)}\n",
    "\n",
    "  # rfClf = RandomForestClassifier(max_leaf_nodes=400)\n",
    "  # rfClf_classifier_search = GridSearchCV(rfClf, params, cv=5,n_jobs=20)\n",
    "  # rfClf_classifier_search.fit(x_train, y_train)\n",
    "  # rfClf_classifier_search.best_params_\n",
    "  # best_rfClf_classifier = \\\n",
    "      # RandomForestClassifier(n_estimators=80, max_leaf_nodes=400,\n",
    "                          #  criterion=rfClf_classifier_search.best_params_[\"criterion\"],\n",
    "                          #  min_samples_leaf=rfClf_classifier_search.best_params_[\"min_samples_leaf\"],\n",
    "                          #  min_samples_split=rfClf_classifier_search.best_params_[\"min_samples_split\"])\n",
    "  # best_rfClf_classifier.fit(x_train, y_train)\n",
    "  # rfClf_best_clf_score.append(best_rfClf_classifier.score(x_test, y_test))\n",
    "  # y_pred = best_rfClf_classifier.predict(x_test)\n",
    "  # rfClf_best_acc_score.append(accuracy_score(y_test,y_pred))"
   ]
  },
  {
   "cell_type": "code",
   "execution_count": 23,
   "metadata": {
    "colab": {
     "base_uri": "https://localhost:8080/",
     "height": 119
    },
    "colab_type": "code",
    "id": "qUwUs2GeAbN7",
    "outputId": "c360a5d4-e0bc-4093-f163-f8f1f5004d5b"
   },
   "outputs": [
    {
     "data": {
      "text/plain": [
       "[0.917568071615069,\n",
       " 0.9149571055576278,\n",
       " 0.9011562849682954,\n",
       " 0.9142111152555017,\n",
       " 0.9093621782916822,\n",
       " 0.9239089891831406]"
      ]
     },
     "execution_count": 23,
     "metadata": {
      "tags": []
     },
     "output_type": "execute_result"
    }
   ],
   "source": [
    "xgbClf_best_clf_score\n"
   ]
  },
  {
   "cell_type": "code",
   "execution_count": 24,
   "metadata": {
    "colab": {
     "base_uri": "https://localhost:8080/",
     "height": 119
    },
    "colab_type": "code",
    "id": "AzlIhkyUMKBE",
    "outputId": "7e17b5a5-75c0-4804-9c03-3325fc69a1c4"
   },
   "outputs": [
    {
     "data": {
      "text/plain": [
       "[0.917568071615069,\n",
       " 0.9149571055576278,\n",
       " 0.9011562849682954,\n",
       " 0.9142111152555017,\n",
       " 0.9093621782916822,\n",
       " 0.9239089891831406]"
      ]
     },
     "execution_count": 24,
     "metadata": {
      "tags": []
     },
     "output_type": "execute_result"
    }
   ],
   "source": [
    "xgbClf_best_acc_score"
   ]
  },
  {
   "cell_type": "code",
   "execution_count": 0,
   "metadata": {
    "colab": {},
    "colab_type": "code",
    "id": "uCQwUmIkA0qo"
   },
   "outputs": [],
   "source": [
    "def list_avg(list):\n",
    "  sum = 0\n",
    "  count = 0\n",
    "  for element in list:\n",
    "    sum += element\n",
    "    count += 1\n",
    "  avg = sum / count\n",
    "  return(avg)"
   ]
  },
  {
   "cell_type": "code",
   "execution_count": 0,
   "metadata": {
    "colab": {},
    "colab_type": "code",
    "id": "hIbCbDvHA7CW"
   },
   "outputs": [],
   "source": [
    "mean_xgbClf_best_clf_score = list_avg(xgbClf_best_clf_score)\n",
    "mean_xgbClf_best_acc_score = list_avg(xgbClf_best_acc_score)\n",
    "# mean_svm_best_clf_score = list_avg(svm_best_clf_score)\n",
    "# mean_svm_best_acc_score = list_avg(svm_best_acc_score)"
   ]
  },
  {
   "cell_type": "code",
   "execution_count": 28,
   "metadata": {
    "colab": {
     "base_uri": "https://localhost:8080/",
     "height": 51
    },
    "colab_type": "code",
    "id": "ycz1z9J3BFP4",
    "outputId": "e68bdbea-a1a8-4703-ac3b-c18c3eee6584"
   },
   "outputs": [
    {
     "name": "stdout",
     "output_type": "stream",
     "text": [
      "0.9135272908118862\n",
      "0.9135272908118862\n"
     ]
    }
   ],
   "source": [
    "print(mean_xgbClf_best_clf_score)\n",
    "print(mean_xgbClf_best_acc_score)"
   ]
  },
  {
   "cell_type": "markdown",
   "metadata": {
    "colab_type": "text",
    "id": "Ry4JQPsRzIzk"
   },
   "source": [
    "# New Section"
   ]
  }
 ],
 "metadata": {
  "colab": {
   "collapsed_sections": [],
   "name": "Untitled0.ipynb",
   "provenance": [],
   "toc_visible": true
  },
  "kernelspec": {
   "display_name": "Python 3",
   "language": "python",
   "name": "python3"
  },
  "language_info": {
   "codemirror_mode": {
    "name": "ipython",
    "version": 3
   },
   "file_extension": ".py",
   "mimetype": "text/x-python",
   "name": "python",
   "nbconvert_exporter": "python",
   "pygments_lexer": "ipython3",
   "version": "3.7.6"
  }
 },
 "nbformat": 4,
 "nbformat_minor": 1
}
