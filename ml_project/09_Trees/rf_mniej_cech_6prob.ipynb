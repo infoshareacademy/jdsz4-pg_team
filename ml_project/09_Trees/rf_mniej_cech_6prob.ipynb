{
 "cells": [
  {
   "cell_type": "code",
   "execution_count": 1,
   "metadata": {
    "colab": {},
    "colab_type": "code",
    "id": "90kdA0D9M2uW"
   },
   "outputs": [],
   "source": [
    "import pandas as pd\n",
    "import xgboost as xgb\n",
    "import numpy as np\n",
    "from sklearn.tree import plot_tree\n",
    "from sklearn.model_selection import train_test_split, cross_val_score\n",
    "from sklearn.metrics import accuracy_score\n",
    "from sklearn.model_selection import GridSearchCV\n",
    "from sklearn.ensemble import RandomForestClassifier"
   ]
  },
  {
   "cell_type": "code",
   "execution_count": 2,
   "metadata": {
    "colab": {},
    "colab_type": "code",
    "id": "DnPaRR4XM-zq"
   },
   "outputs": [],
   "source": [
    "df = pd.read_csv(\"mushrooms.csv\")"
   ]
  },
  {
   "cell_type": "code",
   "execution_count": 3,
   "metadata": {
    "colab": {},
    "colab_type": "code",
    "id": "U1aH2WTGNIz5"
   },
   "outputs": [],
   "source": [
    "df = df.drop(['habitat','population','spore-print-color','stalk-root','stalk-surface-above-ring',\n",
    "                 'stalk-surface-below-ring','stalk-color-above-ring','stalk-color-below-ring','veil-type',\n",
    "                'gill-attachment','gill-spacing','gill-size','odor', 'gill-color', 'stalk-shape', 'ring-number', 'ring-type'],axis=1)"
   ]
  },
  {
   "cell_type": "code",
   "execution_count": 4,
   "metadata": {},
   "outputs": [
    {
     "data": {
      "text/plain": [
       "Index(['class', 'cap-shape', 'cap-surface', 'cap-color', 'bruises',\n",
       "       'veil-color'],\n",
       "      dtype='object')"
      ]
     },
     "execution_count": 4,
     "metadata": {},
     "output_type": "execute_result"
    }
   ],
   "source": [
    "df.columns"
   ]
  },
  {
   "cell_type": "code",
   "execution_count": 5,
   "metadata": {
    "colab": {},
    "colab_type": "code",
    "id": "SfIwYM2XNLCy"
   },
   "outputs": [],
   "source": [
    "df = pd.get_dummies(df)"
   ]
  },
  {
   "cell_type": "code",
   "execution_count": 6,
   "metadata": {
    "colab": {},
    "colab_type": "code",
    "id": "u0S1DAtBNNHE"
   },
   "outputs": [],
   "source": [
    "df = df.drop(['class_e', 'bruises_f'], axis=1)"
   ]
  },
  {
   "cell_type": "code",
   "execution_count": 7,
   "metadata": {
    "colab": {},
    "colab_type": "code",
    "id": "XRBVH4jdNO96"
   },
   "outputs": [],
   "source": [
    "y = df['class_p']\n",
    "x = df.drop(['class_p'], axis=1)"
   ]
  },
  {
   "cell_type": "code",
   "execution_count": 22,
   "metadata": {
    "colab": {},
    "colab_type": "code",
    "id": "Kotte04jNRro"
   },
   "outputs": [],
   "source": [
    "rfClf_best_clf_score = []\n",
    "rfClf_best_acc_score = []\n",
    "\n",
    "for i in range(0,6):\n",
    "  x_train, x_test, y_train, y_test = train_test_split(x, y, test_size=0.33, random_state=i)\n",
    "  params = {\"min_samples_split\": range(4, 6, 2),\n",
    "          \"min_samples_leaf\": range(4, 6, 2),\n",
    "          \"criterion\": [\"gini\"],\n",
    "          \"n_estimators\" : range(20, 80, 10)}\n",
    "\n",
    "  rfClf = RandomForestClassifier(max_leaf_nodes=400)\n",
    "  rfClf_classifier_search = GridSearchCV(rfClf, params, cv=5,n_jobs=4)\n",
    "  rfClf_classifier_search.fit(x_train, y_train)\n",
    "  rfClf_classifier_search.best_params_\n",
    "  best_rfClf_classifier = \\\n",
    "      RandomForestClassifier(n_estimators=80, max_leaf_nodes=400,\n",
    "                           criterion=rfClf_classifier_search.best_params_[\"criterion\"],\n",
    "                           min_samples_leaf=rfClf_classifier_search.best_params_[\"min_samples_leaf\"],\n",
    "                           min_samples_split=rfClf_classifier_search.best_params_[\"min_samples_split\"])\n",
    "  best_rfClf_classifier.fit(x_train, y_train)\n",
    "  rfClf_best_clf_score.append(best_rfClf_classifier.score(x_test, y_test))\n",
    "  y_pred = best_rfClf_classifier.predict(x_test)\n",
    "  rfClf_best_acc_score.append(accuracy_score(y_test,y_pred))"
   ]
  },
  {
   "cell_type": "code",
   "execution_count": 23,
   "metadata": {},
   "outputs": [
    {
     "data": {
      "text/plain": [
       "[0.9157030958597538,\n",
       " 0.9123461395001865,\n",
       " 0.9000372995151062,\n",
       " 0.9089891831406192,\n",
       " 0.90787019768743,\n",
       " 0.9209250279746364]"
      ]
     },
     "execution_count": 23,
     "metadata": {},
     "output_type": "execute_result"
    }
   ],
   "source": [
    "rfClf_best_clf_score"
   ]
  },
  {
   "cell_type": "code",
   "execution_count": 24,
   "metadata": {},
   "outputs": [
    {
     "data": {
      "text/plain": [
       "[0.9157030958597538,\n",
       " 0.9123461395001865,\n",
       " 0.9000372995151062,\n",
       " 0.9089891831406192,\n",
       " 0.90787019768743,\n",
       " 0.9209250279746364]"
      ]
     },
     "execution_count": 24,
     "metadata": {},
     "output_type": "execute_result"
    }
   ],
   "source": [
    "rfClf_best_acc_score"
   ]
  },
  {
   "cell_type": "code",
   "execution_count": 25,
   "metadata": {},
   "outputs": [],
   "source": [
    "def list_avg(list):\n",
    "  sum = 0\n",
    "  count = 0\n",
    "  for element in list:\n",
    "    sum += element\n",
    "    count += 1\n",
    "  avg = sum / count\n",
    "  return(avg)"
   ]
  },
  {
   "cell_type": "code",
   "execution_count": 26,
   "metadata": {},
   "outputs": [],
   "source": [
    "mean_rfClf_best_clf_score = list_avg(rfClf_best_clf_score)\n",
    "mean_rfClf_best_acc_score = list_avg(rfClf_best_acc_score)"
   ]
  },
  {
   "cell_type": "code",
   "execution_count": 27,
   "metadata": {},
   "outputs": [
    {
     "name": "stdout",
     "output_type": "stream",
     "text": [
      "0.9109784906129553\n",
      "0.9109784906129553\n"
     ]
    }
   ],
   "source": [
    "print(mean_rfClf_best_clf_score)\n",
    "print(mean_rfClf_best_acc_score)"
   ]
  }
 ],
 "metadata": {
  "colab": {
   "collapsed_sections": [],
   "name": "Untitled2.ipynb",
   "provenance": [],
   "toc_visible": true
  },
  "kernelspec": {
   "display_name": "Python 3",
   "language": "python",
   "name": "python3"
  },
  "language_info": {
   "codemirror_mode": {
    "name": "ipython",
    "version": 3
   },
   "file_extension": ".py",
   "mimetype": "text/x-python",
   "name": "python",
   "nbconvert_exporter": "python",
   "pygments_lexer": "ipython3",
   "version": "3.7.6"
  }
 },
 "nbformat": 4,
 "nbformat_minor": 1
}
