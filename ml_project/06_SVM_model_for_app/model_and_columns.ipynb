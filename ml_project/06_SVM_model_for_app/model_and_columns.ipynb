{
 "cells": [
  {
   "cell_type": "code",
   "execution_count": 6,
   "metadata": {},
   "outputs": [],
   "source": [
    "from joblib import dump, load"
   ]
  },
  {
   "cell_type": "markdown",
   "metadata": {},
   "source": [
    "Model"
   ]
  },
  {
   "cell_type": "code",
   "execution_count": 10,
   "metadata": {},
   "outputs": [],
   "source": [
    "clf = load('model.joblib')"
   ]
  },
  {
   "cell_type": "markdown",
   "metadata": {},
   "source": [
    "Columns"
   ]
  },
  {
   "cell_type": "code",
   "execution_count": 8,
   "metadata": {},
   "outputs": [],
   "source": [
    "import pandas as pd\n",
    "df = pd.read_csv('../mushrooms.csv')\n",
    "columns = df.drop(['habitat','population','spore-print-color','stalk-root','stalk-surface-above-ring',\n",
    "                 'stalk-surface-below-ring','stalk-color-above-ring','stalk-color-below-ring','veil-type',\n",
    "                'class','gill-attachment','gill-spacing','gill-size','odor','ring-type','ring-number',\n",
    "                            'stalk-shape','gill-color'],axis=1).columns\n",
    "x = pd.get_dummies(df.drop(['habitat','population','spore-print-color','stalk-root','stalk-surface-above-ring',\n",
    "                 'stalk-surface-below-ring','stalk-color-above-ring','stalk-color-below-ring','veil-type',\n",
    "                'class','gill-attachment','gill-spacing','gill-size','odor','ring-type','ring-number',\n",
    "                            'stalk-shape','gill-color'],axis=1)).columns"
   ]
  },
  {
   "cell_type": "code",
   "execution_count": 9,
   "metadata": {},
   "outputs": [
    {
     "name": "stdout",
     "output_type": "stream",
     "text": [
      "Index(['cap-shape', 'cap-surface', 'cap-color', 'bruises', 'veil-color'], dtype='object')\n",
      "Index(['cap-shape_b', 'cap-shape_c', 'cap-shape_f', 'cap-shape_k',\n",
      "       'cap-shape_s', 'cap-shape_x', 'cap-surface_f', 'cap-surface_g',\n",
      "       'cap-surface_s', 'cap-surface_y', 'cap-color_b', 'cap-color_c',\n",
      "       'cap-color_e', 'cap-color_g', 'cap-color_n', 'cap-color_p',\n",
      "       'cap-color_r', 'cap-color_u', 'cap-color_w', 'cap-color_y', 'bruises_f',\n",
      "       'bruises_t', 'veil-color_n', 'veil-color_o', 'veil-color_w',\n",
      "       'veil-color_y'],\n",
      "      dtype='object')\n"
     ]
    }
   ],
   "source": [
    "print(columns)\n",
    "print(x)"
   ]
  },
  {
   "cell_type": "code",
   "execution_count": null,
   "metadata": {},
   "outputs": [],
   "source": []
  }
 ],
 "metadata": {
  "kernelspec": {
   "display_name": "Python 3",
   "language": "python",
   "name": "python3"
  },
  "language_info": {
   "codemirror_mode": {
    "name": "ipython",
    "version": 3
   },
   "file_extension": ".py",
   "mimetype": "text/x-python",
   "name": "python",
   "nbconvert_exporter": "python",
   "pygments_lexer": "ipython3",
   "version": "3.7.6"
  }
 },
 "nbformat": 4,
 "nbformat_minor": 2
}
