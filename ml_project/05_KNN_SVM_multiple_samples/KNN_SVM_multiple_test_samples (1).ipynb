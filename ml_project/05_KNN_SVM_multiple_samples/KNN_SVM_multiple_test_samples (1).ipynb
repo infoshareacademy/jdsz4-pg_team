{
  "nbformat": 4,
  "nbformat_minor": 0,
  "metadata": {
    "colab": {
      "name": "KNN_SVM_multiple_test_samples.ipynb",
      "provenance": [],
      "toc_visible": true
    },
    "kernelspec": {
      "name": "python3",
      "display_name": "Python 3"
    }
  },
  "cells": [
    {
      "cell_type": "code",
      "metadata": {
        "id": "hBhnhLmxqYpS",
        "colab_type": "code",
        "colab": {}
      },
      "source": [
        "import pandas as pd\n",
        "import numpy as np\n",
        "\n",
        "from sklearn import preprocessing\n",
        "\n",
        "\n",
        "from sklearn.tree import DecisionTreeClassifier\n",
        "from sklearn.neighbors import KNeighborsClassifier, RadiusNeighborsClassifier\n",
        "from sklearn.metrics import accuracy_score\n",
        "\n",
        "from sklearn.model_selection import train_test_split, cross_val_score\n",
        "from sklearn.model_selection import GridSearchCV\n",
        "\n",
        "import matplotlib.pyplot as plt\n",
        "from sklearn import svm"
      ],
      "execution_count": 0,
      "outputs": []
    },
    {
      "cell_type": "code",
      "metadata": {
        "id": "_8hLnn3eqa34",
        "colab_type": "code",
        "colab": {}
      },
      "source": [
        "df = pd.read_csv('mushrooms.csv')"
      ],
      "execution_count": 0,
      "outputs": []
    },
    {
      "cell_type": "code",
      "metadata": {
        "id": "6SSlCRl3qbT6",
        "colab_type": "code",
        "colab": {}
      },
      "source": [
        "x = pd.get_dummies(df.drop(['habitat','population','spore-print-color','stalk-root','stalk-surface-above-ring',\n",
        "                 'stalk-surface-below-ring','stalk-color-above-ring','stalk-color-below-ring','veil-type',\n",
        "                'class','gill-attachment','gill-spacing','gill-size','odor','ring-type','ring-number','stalk-shape','gill-color'],axis=1))\n",
        "a = pd.get_dummies(df['class'])\n",
        "y = a.drop(['p'],axis=1).to_numpy().ravel()"
      ],
      "execution_count": 0,
      "outputs": []
    },
    {
      "cell_type": "code",
      "metadata": {
        "id": "sh_H9qrQqijL",
        "colab_type": "code",
        "colab": {
          "base_uri": "https://localhost:8080/",
          "height": 207
        },
        "outputId": "82c87bbb-b71b-458f-dac1-257c455bce44"
      },
      "source": [
        "knn_best_clf_score = []\n",
        "knn_best_acc_score = []\n",
        "svm_best_clf_score = []\n",
        "svm_best_acc_score = []\n",
        "\n",
        "for i in range(0,6):\n",
        "  x_train, x_test, y_train, y_test = train_test_split(x, y, test_size=0.33, random_state=3)\n",
        "  params = {\"n_neighbors\": range(2, 101),\n",
        "          \"p\": range(1,2),\n",
        "          \"weights\": [\"uniform\", \"distance\"]}\n",
        "\n",
        "  knn = KNeighborsClassifier()\n",
        "\n",
        "  knn_classifier_search = GridSearchCV(knn, params, cv=5,n_jobs=20)\n",
        "  knn_classifier_search.fit(x_train, y_train)\n",
        "  knn_classifier_search.best_params_\n",
        "  best_knn_classifier = \\\n",
        "    KNeighborsClassifier(n_neighbors=knn_classifier_search.best_params_[\"n_neighbors\"],\n",
        "                           p=knn_classifier_search.best_params_[\"p\"],\n",
        "                           weights=knn_classifier_search.best_params_[\"weights\"])\n",
        "  best_knn_classifier.fit(x_train, y_train)\n",
        "  knn_best_clf_score.append(best_knn_classifier.score(x_test, y_test))\n",
        "  y_pred = best_knn_classifier.predict(x_test)\n",
        "  knn_best_acc_score.append(accuracy_score(y_test,y_pred))\n",
        "\n",
        "  params = {\"kernel\": ['linear', 'poly', 'rbf', 'sigmoid'],\n",
        "         'C':[0.1,1,10],\n",
        "         'gamma':[3,4,5]}\n",
        "\n",
        "  clf = svm.SVC()\n",
        "\n",
        "  clf_classifier_search = GridSearchCV(clf, params, cv=5,n_jobs=20)\n",
        "  clf_classifier_search.fit(x_train, y_train)\n",
        "  clf_classifier_search.best_params_\n",
        "  best_svm_classifier = \\\n",
        "      svm.SVC(kernel=clf_classifier_search.best_params_[\"kernel\"])\n",
        "\n",
        "  best_svm_classifier.fit(x_train, y_train)\n",
        "  svm_best_clf_score.append(best_svm_classifier.score(x_test, y_test))\n",
        "  y_pred = best_svm_classifier.predict(x_test)\n",
        "  svm_best_acc_score.append(accuracy_score(y_test,y_pred))\n"
      ],
      "execution_count": 9,
      "outputs": [
        {
          "output_type": "stream",
          "text": [
            "/usr/local/lib/python3.6/dist-packages/joblib/externals/loky/process_executor.py:706: UserWarning: A worker stopped while some jobs were given to the executor. This can be caused by a too short worker timeout or by a memory leak.\n",
            "  \"timeout or by a memory leak.\", UserWarning\n",
            "/usr/local/lib/python3.6/dist-packages/joblib/externals/loky/process_executor.py:706: UserWarning: A worker stopped while some jobs were given to the executor. This can be caused by a too short worker timeout or by a memory leak.\n",
            "  \"timeout or by a memory leak.\", UserWarning\n",
            "/usr/local/lib/python3.6/dist-packages/joblib/externals/loky/process_executor.py:706: UserWarning: A worker stopped while some jobs were given to the executor. This can be caused by a too short worker timeout or by a memory leak.\n",
            "  \"timeout or by a memory leak.\", UserWarning\n",
            "/usr/local/lib/python3.6/dist-packages/joblib/externals/loky/process_executor.py:706: UserWarning: A worker stopped while some jobs were given to the executor. This can be caused by a too short worker timeout or by a memory leak.\n",
            "  \"timeout or by a memory leak.\", UserWarning\n",
            "/usr/local/lib/python3.6/dist-packages/joblib/externals/loky/process_executor.py:706: UserWarning: A worker stopped while some jobs were given to the executor. This can be caused by a too short worker timeout or by a memory leak.\n",
            "  \"timeout or by a memory leak.\", UserWarning\n"
          ],
          "name": "stderr"
        }
      ]
    },
    {
      "cell_type": "code",
      "metadata": {
        "id": "Qpu12hE7qlcX",
        "colab_type": "code",
        "colab": {}
      },
      "source": [
        "def list_avg(list):\n",
        "  sum = 0\n",
        "  count = 0\n",
        "  for element in list:\n",
        "    sum += element\n",
        "    count += 1\n",
        "  avg = sum / count\n",
        "  return(avg)"
      ],
      "execution_count": 0,
      "outputs": []
    },
    {
      "cell_type": "code",
      "metadata": {
        "id": "6Q1QPy68qmW2",
        "colab_type": "code",
        "colab": {}
      },
      "source": [
        "mean_knn_best_clf_score = list_avg(knn_best_clf_score)\n",
        "mean_knn_best_acc_score = list_avg(knn_best_acc_score)\n",
        "mean_svm_best_clf_score = list_avg(svm_best_clf_score)\n",
        "mean_svm_best_acc_score = list_avg(svm_best_acc_score)"
      ],
      "execution_count": 0,
      "outputs": []
    },
    {
      "cell_type": "code",
      "metadata": {
        "id": "2i2sUwkWqmZc",
        "colab_type": "code",
        "colab": {
          "base_uri": "https://localhost:8080/",
          "height": 85
        },
        "outputId": "2c564fdf-b736-42ba-e954-8007ec7ccb11"
      },
      "source": [
        "print(mean_knn_best_clf_score)\n",
        "print(mean_knn_best_acc_score)\n",
        "print(mean_svm_best_clf_score)\n",
        "print(mean_svm_best_acc_score)"
      ],
      "execution_count": 12,
      "outputs": [
        {
          "output_type": "stream",
          "text": [
            "0.9112271540469975\n",
            "0.9112271540469975\n",
            "0.9127191346512494\n",
            "0.9127191346512494\n"
          ],
          "name": "stdout"
        }
      ]
    },
    {
      "cell_type": "code",
      "metadata": {
        "id": "IR2nNjRsqmeQ",
        "colab_type": "code",
        "colab": {}
      },
      "source": [
        ""
      ],
      "execution_count": 0,
      "outputs": []
    },
    {
      "cell_type": "code",
      "metadata": {
        "id": "BTvX1D0uqmhc",
        "colab_type": "code",
        "colab": {}
      },
      "source": [
        ""
      ],
      "execution_count": 0,
      "outputs": []
    },
    {
      "cell_type": "code",
      "metadata": {
        "id": "O_85wkFdqmj4",
        "colab_type": "code",
        "colab": {}
      },
      "source": [
        ""
      ],
      "execution_count": 0,
      "outputs": []
    },
    {
      "cell_type": "code",
      "metadata": {
        "id": "lk7bxx05qmoQ",
        "colab_type": "code",
        "colab": {}
      },
      "source": [
        ""
      ],
      "execution_count": 0,
      "outputs": []
    },
    {
      "cell_type": "code",
      "metadata": {
        "id": "QLVY6VKSqmrH",
        "colab_type": "code",
        "colab": {}
      },
      "source": [
        ""
      ],
      "execution_count": 0,
      "outputs": []
    },
    {
      "cell_type": "code",
      "metadata": {
        "id": "P6ONI7uiqmvu",
        "colab_type": "code",
        "colab": {}
      },
      "source": [
        ""
      ],
      "execution_count": 0,
      "outputs": []
    },
    {
      "cell_type": "code",
      "metadata": {
        "id": "LQf7eP39qmuY",
        "colab_type": "code",
        "colab": {}
      },
      "source": [
        ""
      ],
      "execution_count": 0,
      "outputs": []
    },
    {
      "cell_type": "code",
      "metadata": {
        "id": "jfW6bTmfqmml",
        "colab_type": "code",
        "colab": {}
      },
      "source": [
        ""
      ],
      "execution_count": 0,
      "outputs": []
    },
    {
      "cell_type": "code",
      "metadata": {
        "id": "oqkiaRZzqmcW",
        "colab_type": "code",
        "colab": {}
      },
      "source": [
        ""
      ],
      "execution_count": 0,
      "outputs": []
    }
  ]
}