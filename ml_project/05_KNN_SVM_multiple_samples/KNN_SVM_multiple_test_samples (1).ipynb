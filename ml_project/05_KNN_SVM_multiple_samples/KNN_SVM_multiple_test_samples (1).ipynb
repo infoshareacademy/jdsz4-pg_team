{
 "cells": [
  {
   "cell_type": "code",
   "execution_count": 0,
   "metadata": {
    "colab": {},
    "colab_type": "code",
    "id": "hBhnhLmxqYpS"
   },
   "outputs": [],
   "source": [
    "import pandas as pd\n",
    "import numpy as np\n",
    "\n",
    "from sklearn import preprocessing\n",
    "\n",
    "\n",
    "from sklearn.tree import DecisionTreeClassifier\n",
    "from sklearn.neighbors import KNeighborsClassifier, RadiusNeighborsClassifier\n",
    "from sklearn.metrics import accuracy_score\n",
    "\n",
    "from sklearn.model_selection import train_test_split, cross_val_score\n",
    "from sklearn.model_selection import GridSearchCV\n",
    "\n",
    "import matplotlib.pyplot as plt\n",
    "from sklearn import svm"
   ]
  },
  {
   "cell_type": "code",
   "execution_count": 0,
   "metadata": {
    "colab": {},
    "colab_type": "code",
    "id": "_8hLnn3eqa34"
   },
   "outputs": [],
   "source": [
    "df = pd.read_csv('mushrooms.csv')"
   ]
  },
  {
   "cell_type": "code",
   "execution_count": 0,
   "metadata": {
    "colab": {},
    "colab_type": "code",
    "id": "6SSlCRl3qbT6"
   },
   "outputs": [],
   "source": [
    "x = pd.get_dummies(df.drop(['habitat','population','spore-print-color','stalk-root','stalk-surface-above-ring',\n",
    "                 'stalk-surface-below-ring','stalk-color-above-ring','stalk-color-below-ring','veil-type',\n",
    "                'class','gill-attachment','gill-spacing','gill-size','odor','ring-type','ring-number','stalk-shape','gill-color'],axis=1))\n",
    "a = pd.get_dummies(df['class'])\n",
    "y = a.drop(['p'],axis=1).to_numpy().ravel()"
   ]
  },
  {
   "cell_type": "code",
   "execution_count": 13,
   "metadata": {
    "colab": {
     "base_uri": "https://localhost:8080/",
     "height": 207
    },
    "colab_type": "code",
    "id": "sh_H9qrQqijL",
    "outputId": "86f36428-001e-4d5e-f017-bf8ac1423f24"
   },
   "outputs": [
    {
     "name": "stderr",
     "output_type": "stream",
     "text": [
      "/usr/local/lib/python3.6/dist-packages/joblib/externals/loky/process_executor.py:706: UserWarning: A worker stopped while some jobs were given to the executor. This can be caused by a too short worker timeout or by a memory leak.\n",
      "  \"timeout or by a memory leak.\", UserWarning\n",
      "/usr/local/lib/python3.6/dist-packages/joblib/externals/loky/process_executor.py:706: UserWarning: A worker stopped while some jobs were given to the executor. This can be caused by a too short worker timeout or by a memory leak.\n",
      "  \"timeout or by a memory leak.\", UserWarning\n",
      "/usr/local/lib/python3.6/dist-packages/joblib/externals/loky/process_executor.py:706: UserWarning: A worker stopped while some jobs were given to the executor. This can be caused by a too short worker timeout or by a memory leak.\n",
      "  \"timeout or by a memory leak.\", UserWarning\n",
      "/usr/local/lib/python3.6/dist-packages/joblib/externals/loky/process_executor.py:706: UserWarning: A worker stopped while some jobs were given to the executor. This can be caused by a too short worker timeout or by a memory leak.\n",
      "  \"timeout or by a memory leak.\", UserWarning\n",
      "/usr/local/lib/python3.6/dist-packages/joblib/externals/loky/process_executor.py:706: UserWarning: A worker stopped while some jobs were given to the executor. This can be caused by a too short worker timeout or by a memory leak.\n",
      "  \"timeout or by a memory leak.\", UserWarning\n"
     ]
    }
   ],
   "source": [
    "knn_best_clf_score = []\n",
    "knn_best_acc_score = []\n",
    "svm_best_clf_score = []\n",
    "svm_best_acc_score = []\n",
    "\n",
    "for i in range(0,6):\n",
    "  x_train, x_test, y_train, y_test = train_test_split(x, y, test_size=0.33, random_state=i)\n",
    "  params = {\"n_neighbors\": range(2, 101),\n",
    "          \"p\": range(1,2),\n",
    "          \"weights\": [\"uniform\", \"distance\"]}\n",
    "\n",
    "  knn = KNeighborsClassifier()\n",
    "\n",
    "  knn_classifier_search = GridSearchCV(knn, params, cv=5,n_jobs=20)\n",
    "  knn_classifier_search.fit(x_train, y_train)\n",
    "  knn_classifier_search.best_params_\n",
    "  best_knn_classifier = \\\n",
    "    KNeighborsClassifier(n_neighbors=knn_classifier_search.best_params_[\"n_neighbors\"],\n",
    "                           p=knn_classifier_search.best_params_[\"p\"],\n",
    "                           weights=knn_classifier_search.best_params_[\"weights\"])\n",
    "  best_knn_classifier.fit(x_train, y_train)\n",
    "  knn_best_clf_score.append(best_knn_classifier.score(x_test, y_test))\n",
    "  y_pred = best_knn_classifier.predict(x_test)\n",
    "  knn_best_acc_score.append(accuracy_score(y_test,y_pred))\n",
    "\n",
    "  params = {\"kernel\": ['linear', 'poly', 'rbf', 'sigmoid'],\n",
    "         'C':[0.1,1,10],\n",
    "         'gamma':[3,4,5]}\n",
    "\n",
    "  clf = svm.SVC()\n",
    "\n",
    "  clf_classifier_search = GridSearchCV(clf, params, cv=5,n_jobs=20)\n",
    "  clf_classifier_search.fit(x_train, y_train)\n",
    "  clf_classifier_search.best_params_\n",
    "  best_svm_classifier = \\\n",
    "      svm.SVC(kernel=clf_classifier_search.best_params_[\"kernel\"])\n",
    "\n",
    "  best_svm_classifier.fit(x_train, y_train)\n",
    "  svm_best_clf_score.append(best_svm_classifier.score(x_test, y_test))\n",
    "  y_pred = best_svm_classifier.predict(x_test)\n",
    "  svm_best_acc_score.append(accuracy_score(y_test,y_pred))\n"
   ]
  },
  {
   "cell_type": "code",
   "execution_count": 0,
   "metadata": {
    "colab": {},
    "colab_type": "code",
    "id": "Qpu12hE7qlcX"
   },
   "outputs": [],
   "source": [
    "def list_avg(list):\n",
    "  sum = 0\n",
    "  count = 0\n",
    "  for element in list:\n",
    "    sum += element\n",
    "    count += 1\n",
    "  avg = sum / count\n",
    "  return(avg)"
   ]
  },
  {
   "cell_type": "code",
   "execution_count": 0,
   "metadata": {
    "colab": {},
    "colab_type": "code",
    "id": "6Q1QPy68qmW2"
   },
   "outputs": [],
   "source": [
    "mean_knn_best_clf_score = list_avg(knn_best_clf_score)\n",
    "mean_knn_best_acc_score = list_avg(knn_best_acc_score)\n",
    "mean_svm_best_clf_score = list_avg(svm_best_clf_score)\n",
    "mean_svm_best_acc_score = list_avg(svm_best_acc_score)"
   ]
  },
  {
   "cell_type": "code",
   "execution_count": 15,
   "metadata": {
    "colab": {
     "base_uri": "https://localhost:8080/",
     "height": 85
    },
    "colab_type": "code",
    "id": "2i2sUwkWqmZc",
    "outputId": "3540f9e0-cff1-488b-833f-6cb3536dc63f"
   },
   "outputs": [
    {
     "name": "stdout",
     "output_type": "stream",
     "text": [
      "0.9110406564714659\n",
      "0.9110406564714659\n",
      "0.9125948029342285\n",
      "0.9125948029342285\n"
     ]
    }
   ],
   "source": [
    "print(mean_knn_best_clf_score)\n",
    "print(mean_knn_best_acc_score)\n",
    "print(mean_svm_best_clf_score)\n",
    "print(mean_svm_best_acc_score)"
   ]
  },
  {
   "cell_type": "code",
   "execution_count": 0,
   "metadata": {
    "colab": {},
    "colab_type": "code",
    "id": "IR2nNjRsqmeQ"
   },
   "outputs": [],
   "source": []
  },
  {
   "cell_type": "code",
   "execution_count": 0,
   "metadata": {
    "colab": {},
    "colab_type": "code",
    "id": "BTvX1D0uqmhc"
   },
   "outputs": [],
   "source": []
  },
  {
   "cell_type": "code",
   "execution_count": 0,
   "metadata": {
    "colab": {},
    "colab_type": "code",
    "id": "O_85wkFdqmj4"
   },
   "outputs": [],
   "source": []
  },
  {
   "cell_type": "code",
   "execution_count": 0,
   "metadata": {
    "colab": {},
    "colab_type": "code",
    "id": "lk7bxx05qmoQ"
   },
   "outputs": [],
   "source": []
  },
  {
   "cell_type": "code",
   "execution_count": 0,
   "metadata": {
    "colab": {},
    "colab_type": "code",
    "id": "QLVY6VKSqmrH"
   },
   "outputs": [],
   "source": []
  },
  {
   "cell_type": "code",
   "execution_count": 0,
   "metadata": {
    "colab": {},
    "colab_type": "code",
    "id": "P6ONI7uiqmvu"
   },
   "outputs": [],
   "source": []
  },
  {
   "cell_type": "code",
   "execution_count": 0,
   "metadata": {
    "colab": {},
    "colab_type": "code",
    "id": "LQf7eP39qmuY"
   },
   "outputs": [],
   "source": []
  },
  {
   "cell_type": "code",
   "execution_count": 0,
   "metadata": {
    "colab": {},
    "colab_type": "code",
    "id": "jfW6bTmfqmml"
   },
   "outputs": [],
   "source": []
  },
  {
   "cell_type": "code",
   "execution_count": 0,
   "metadata": {
    "colab": {},
    "colab_type": "code",
    "id": "oqkiaRZzqmcW"
   },
   "outputs": [],
   "source": []
  }
 ],
 "metadata": {
  "colab": {
   "name": "KNN_SVM_multiple_test_samples.ipynb",
   "provenance": [],
   "toc_visible": true
  },
  "kernelspec": {
   "display_name": "Python 3",
   "language": "python",
   "name": "python3"
  },
  "language_info": {
   "codemirror_mode": {
    "name": "ipython",
    "version": 3
   },
   "file_extension": ".py",
   "mimetype": "text/x-python",
   "name": "python",
   "nbconvert_exporter": "python",
   "pygments_lexer": "ipython3",
   "version": "3.7.6"
  }
 },
 "nbformat": 4,
 "nbformat_minor": 1
}
