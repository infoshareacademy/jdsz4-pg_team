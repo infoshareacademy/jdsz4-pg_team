{
 "cells": [
  {
   "cell_type": "code",
   "execution_count": 87,
   "metadata": {},
   "outputs": [],
   "source": [
    "import json\n",
    "import os\n",
    "import cv2 as cv\n",
    "\n",
    "import pandas as pd\n",
    "import numpy as np\n",
    "import matplotlib.pyplot as plt"
   ]
  },
  {
   "cell_type": "code",
   "execution_count": 88,
   "metadata": {},
   "outputs": [
    {
     "data": {
      "text/html": [
       "<div>\n",
       "<style scoped>\n",
       "    .dataframe tbody tr th:only-of-type {\n",
       "        vertical-align: middle;\n",
       "    }\n",
       "\n",
       "    .dataframe tbody tr th {\n",
       "        vertical-align: top;\n",
       "    }\n",
       "\n",
       "    .dataframe thead th {\n",
       "        text-align: right;\n",
       "    }\n",
       "</style>\n",
       "<table border=\"1\" class=\"dataframe\">\n",
       "  <thead>\n",
       "    <tr style=\"text-align: right;\">\n",
       "      <th></th>\n",
       "      <th>image</th>\n",
       "      <th>objects</th>\n",
       "    </tr>\n",
       "  </thead>\n",
       "  <tbody>\n",
       "    <tr>\n",
       "      <th>0</th>\n",
       "      <td>{'checksum': '676bb8e86fc2dbf05dd97d51a64ac0af...</td>\n",
       "      <td>[{'bounding_box': {'minimum': {'r': 1057, 'c':...</td>\n",
       "    </tr>\n",
       "    <tr>\n",
       "      <th>1</th>\n",
       "      <td>{'checksum': '1225a18efce159eddf7b0e80e0ea642c...</td>\n",
       "      <td>[{'bounding_box': {'minimum': {'r': 734, 'c': ...</td>\n",
       "    </tr>\n",
       "    <tr>\n",
       "      <th>2</th>\n",
       "      <td>{'checksum': '3eaf840523c30fdf38897ffa01e194eb...</td>\n",
       "      <td>[{'bounding_box': {'minimum': {'r': 724, 'c': ...</td>\n",
       "    </tr>\n",
       "    <tr>\n",
       "      <th>3</th>\n",
       "      <td>{'checksum': '8a111dffacfa433029492780b9535091...</td>\n",
       "      <td>[{'bounding_box': {'minimum': {'r': 563, 'c': ...</td>\n",
       "    </tr>\n",
       "    <tr>\n",
       "      <th>4</th>\n",
       "      <td>{'checksum': 'ccef403e971460b86444cca669e68ca1...</td>\n",
       "      <td>[{'bounding_box': {'minimum': {'r': 618, 'c': ...</td>\n",
       "    </tr>\n",
       "  </tbody>\n",
       "</table>\n",
       "</div>"
      ],
      "text/plain": [
       "                                               image  \\\n",
       "0  {'checksum': '676bb8e86fc2dbf05dd97d51a64ac0af...   \n",
       "1  {'checksum': '1225a18efce159eddf7b0e80e0ea642c...   \n",
       "2  {'checksum': '3eaf840523c30fdf38897ffa01e194eb...   \n",
       "3  {'checksum': '8a111dffacfa433029492780b9535091...   \n",
       "4  {'checksum': 'ccef403e971460b86444cca669e68ca1...   \n",
       "\n",
       "                                             objects  \n",
       "0  [{'bounding_box': {'minimum': {'r': 1057, 'c':...  \n",
       "1  [{'bounding_box': {'minimum': {'r': 734, 'c': ...  \n",
       "2  [{'bounding_box': {'minimum': {'r': 724, 'c': ...  \n",
       "3  [{'bounding_box': {'minimum': {'r': 563, 'c': ...  \n",
       "4  [{'bounding_box': {'minimum': {'r': 618, 'c': ...  "
      ]
     },
     "execution_count": 88,
     "metadata": {},
     "output_type": "execute_result"
    }
   ],
   "source": [
    "data = pd.read_json('malaria/training.json')\n",
    "data.head()"
   ]
  },
  {
   "cell_type": "markdown",
   "metadata": {},
   "source": [
    "### Reformatting the dataset"
   ]
  },
  {
   "cell_type": "code",
   "execution_count": 89,
   "metadata": {},
   "outputs": [
    {
     "data": {
      "text/plain": [
       "[]"
      ]
     },
     "execution_count": 89,
     "metadata": {},
     "output_type": "execute_result"
    }
   ],
   "source": [
    "columns = ['pathname','minimum_r','minimum_c','maximum_r','maximum_c','category']\n",
    "data_reformatted = []\n",
    "data_reformatted"
   ]
  },
  {
   "cell_type": "code",
   "execution_count": 90,
   "metadata": {
    "scrolled": true
   },
   "outputs": [],
   "source": [
    "data_reformatted = []\n",
    "for k in range(len(data['objects'])):\n",
    "    for l in range(len(data['objects'][k])):\n",
    "        line = [data['image'][k]['pathname'],\n",
    "                data['objects'][k][l]['bounding_box']['minimum']['r'],\n",
    "                data['objects'][k][l]['bounding_box']['minimum']['c'],\n",
    "                data['objects'][k][l]['bounding_box']['maximum']['r'],\n",
    "                data['objects'][k][l]['bounding_box']['maximum']['c'],\n",
    "                data['objects'][k][l]['category']]\n",
    "        data_reformatted.append(line)\n",
    "data_correct = pd.DataFrame(data_reformatted,columns=columns)"
   ]
  },
  {
   "cell_type": "markdown",
   "metadata": {},
   "source": [
    "### CSV dump"
   ]
  },
  {
   "cell_type": "code",
   "execution_count": 94,
   "metadata": {},
   "outputs": [],
   "source": [
    "data_correct.to_csv('data_correct.csv')"
   ]
  },
  {
   "cell_type": "code",
   "execution_count": 92,
   "metadata": {},
   "outputs": [
    {
     "data": {
      "text/html": [
       "<div>\n",
       "<style scoped>\n",
       "    .dataframe tbody tr th:only-of-type {\n",
       "        vertical-align: middle;\n",
       "    }\n",
       "\n",
       "    .dataframe tbody tr th {\n",
       "        vertical-align: top;\n",
       "    }\n",
       "\n",
       "    .dataframe thead th {\n",
       "        text-align: right;\n",
       "    }\n",
       "</style>\n",
       "<table border=\"1\" class=\"dataframe\">\n",
       "  <thead>\n",
       "    <tr style=\"text-align: right;\">\n",
       "      <th></th>\n",
       "      <th>pathname</th>\n",
       "      <th>minimum_r</th>\n",
       "      <th>minimum_c</th>\n",
       "      <th>maximum_r</th>\n",
       "      <th>maximum_c</th>\n",
       "      <th>category</th>\n",
       "    </tr>\n",
       "  </thead>\n",
       "  <tbody>\n",
       "    <tr>\n",
       "      <th>0</th>\n",
       "      <td>/images/8d02117d-6c71-4e47-b50a-6cc8d5eb1d55.png</td>\n",
       "      <td>1057</td>\n",
       "      <td>1440</td>\n",
       "      <td>1158</td>\n",
       "      <td>1540</td>\n",
       "      <td>red blood cell</td>\n",
       "    </tr>\n",
       "    <tr>\n",
       "      <th>1</th>\n",
       "      <td>/images/8d02117d-6c71-4e47-b50a-6cc8d5eb1d55.png</td>\n",
       "      <td>868</td>\n",
       "      <td>1303</td>\n",
       "      <td>971</td>\n",
       "      <td>1403</td>\n",
       "      <td>red blood cell</td>\n",
       "    </tr>\n",
       "    <tr>\n",
       "      <th>2</th>\n",
       "      <td>/images/8d02117d-6c71-4e47-b50a-6cc8d5eb1d55.png</td>\n",
       "      <td>578</td>\n",
       "      <td>900</td>\n",
       "      <td>689</td>\n",
       "      <td>1008</td>\n",
       "      <td>red blood cell</td>\n",
       "    </tr>\n",
       "    <tr>\n",
       "      <th>3</th>\n",
       "      <td>/images/8d02117d-6c71-4e47-b50a-6cc8d5eb1d55.png</td>\n",
       "      <td>304</td>\n",
       "      <td>611</td>\n",
       "      <td>408</td>\n",
       "      <td>713</td>\n",
       "      <td>red blood cell</td>\n",
       "    </tr>\n",
       "    <tr>\n",
       "      <th>4</th>\n",
       "      <td>/images/8d02117d-6c71-4e47-b50a-6cc8d5eb1d55.png</td>\n",
       "      <td>198</td>\n",
       "      <td>881</td>\n",
       "      <td>312</td>\n",
       "      <td>1003</td>\n",
       "      <td>red blood cell</td>\n",
       "    </tr>\n",
       "    <tr>\n",
       "      <th>...</th>\n",
       "      <td>...</td>\n",
       "      <td>...</td>\n",
       "      <td>...</td>\n",
       "      <td>...</td>\n",
       "      <td>...</td>\n",
       "      <td>...</td>\n",
       "    </tr>\n",
       "    <tr>\n",
       "      <th>80108</th>\n",
       "      <td>/images/99e979d4-ee97-4d7f-9da6-00bead40db4d.png</td>\n",
       "      <td>757</td>\n",
       "      <td>520</td>\n",
       "      <td>873</td>\n",
       "      <td>595</td>\n",
       "      <td>red blood cell</td>\n",
       "    </tr>\n",
       "    <tr>\n",
       "      <th>80109</th>\n",
       "      <td>/images/99e979d4-ee97-4d7f-9da6-00bead40db4d.png</td>\n",
       "      <td>308</td>\n",
       "      <td>808</td>\n",
       "      <td>406</td>\n",
       "      <td>900</td>\n",
       "      <td>trophozoite</td>\n",
       "    </tr>\n",
       "    <tr>\n",
       "      <th>80110</th>\n",
       "      <td>/images/99e979d4-ee97-4d7f-9da6-00bead40db4d.png</td>\n",
       "      <td>510</td>\n",
       "      <td>453</td>\n",
       "      <td>595</td>\n",
       "      <td>570</td>\n",
       "      <td>red blood cell</td>\n",
       "    </tr>\n",
       "    <tr>\n",
       "      <th>80111</th>\n",
       "      <td>/images/99e979d4-ee97-4d7f-9da6-00bead40db4d.png</td>\n",
       "      <td>0</td>\n",
       "      <td>1260</td>\n",
       "      <td>87</td>\n",
       "      <td>1344</td>\n",
       "      <td>red blood cell</td>\n",
       "    </tr>\n",
       "    <tr>\n",
       "      <th>80112</th>\n",
       "      <td>/images/99e979d4-ee97-4d7f-9da6-00bead40db4d.png</td>\n",
       "      <td>740</td>\n",
       "      <td>0</td>\n",
       "      <td>852</td>\n",
       "      <td>100</td>\n",
       "      <td>red blood cell</td>\n",
       "    </tr>\n",
       "  </tbody>\n",
       "</table>\n",
       "<p>80113 rows × 6 columns</p>\n",
       "</div>"
      ],
      "text/plain": [
       "                                               pathname  minimum_r  minimum_c  \\\n",
       "0      /images/8d02117d-6c71-4e47-b50a-6cc8d5eb1d55.png       1057       1440   \n",
       "1      /images/8d02117d-6c71-4e47-b50a-6cc8d5eb1d55.png        868       1303   \n",
       "2      /images/8d02117d-6c71-4e47-b50a-6cc8d5eb1d55.png        578        900   \n",
       "3      /images/8d02117d-6c71-4e47-b50a-6cc8d5eb1d55.png        304        611   \n",
       "4      /images/8d02117d-6c71-4e47-b50a-6cc8d5eb1d55.png        198        881   \n",
       "...                                                 ...        ...        ...   \n",
       "80108  /images/99e979d4-ee97-4d7f-9da6-00bead40db4d.png        757        520   \n",
       "80109  /images/99e979d4-ee97-4d7f-9da6-00bead40db4d.png        308        808   \n",
       "80110  /images/99e979d4-ee97-4d7f-9da6-00bead40db4d.png        510        453   \n",
       "80111  /images/99e979d4-ee97-4d7f-9da6-00bead40db4d.png          0       1260   \n",
       "80112  /images/99e979d4-ee97-4d7f-9da6-00bead40db4d.png        740          0   \n",
       "\n",
       "       maximum_r  maximum_c        category  \n",
       "0           1158       1540  red blood cell  \n",
       "1            971       1403  red blood cell  \n",
       "2            689       1008  red blood cell  \n",
       "3            408        713  red blood cell  \n",
       "4            312       1003  red blood cell  \n",
       "...          ...        ...             ...  \n",
       "80108        873        595  red blood cell  \n",
       "80109        406        900     trophozoite  \n",
       "80110        595        570  red blood cell  \n",
       "80111         87       1344  red blood cell  \n",
       "80112        852        100  red blood cell  \n",
       "\n",
       "[80113 rows x 6 columns]"
      ]
     },
     "execution_count": 92,
     "metadata": {},
     "output_type": "execute_result"
    }
   ],
   "source": [
    "data_correct"
   ]
  },
  {
   "cell_type": "code",
   "execution_count": null,
   "metadata": {},
   "outputs": [],
   "source": []
  }
 ],
 "metadata": {
  "kernelspec": {
   "display_name": "Python 3",
   "language": "python",
   "name": "python3"
  },
  "language_info": {
   "codemirror_mode": {
    "name": "ipython",
    "version": 3
   },
   "file_extension": ".py",
   "mimetype": "text/x-python",
   "name": "python",
   "nbconvert_exporter": "python",
   "pygments_lexer": "ipython3",
   "version": "3.7.6"
  }
 },
 "nbformat": 4,
 "nbformat_minor": 2
}
