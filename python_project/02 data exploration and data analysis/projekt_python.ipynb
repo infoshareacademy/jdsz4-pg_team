{
 "cells": [
  {
   "cell_type": "markdown",
   "metadata": {},
   "source": [
    "**Ogólne założenia projektu:**\n",
    "* eksploracja danych (jeśli są nowe), można początkowo (ale nie trzeba) skorzystać z sql’a, ale potem już w pythonie\n",
    "* wybór interesujących cech\n",
    "* zastosowanie podstawowych metod statystycznych\n",
    "* wprowadzenie analizy czynnikowej (PCA)\n",
    "* wykonanie wykresów, wizualizacji w pythonie\n",
    "* zastosowanie magic/widget\n",
    "* zastosowanie obiektowości w aplikacji\n",
    "Mistrzowski zestaw pokemonów\n",
    "https://www.kaggle.com/lrcusack/pokemontrainers#database.sqlite\n",
    "\n",
    "\n",
    "**Cel Statystyczny:** Ograniczając się do pewnej, maksymalnej liczby zebranych pokemonów, należy określić potencjalnie najlepszy zestaw w starciu z jakimkolwiek innym przeciwnikiem.\n",
    "\n",
    "\n",
    "**Cel Python:** Symulator walki"
   ]
  },
  {
   "cell_type": "code",
   "execution_count": null,
   "metadata": {},
   "outputs": [],
   "source": [
    "# wczytanie danych\n",
    "import pandas as pd\n",
    "\n",
    "pokemony = pd.read_csv('main_Pokemon.csv')\n",
    "trenerzy = pd.read_csv('main_Trainers.csv')"
   ]
  },
  {
   "cell_type": "code",
   "execution_count": null,
   "metadata": {},
   "outputs": [],
   "source": [
    "# wyświetlenie pierwszych 10 rekordów\n",
    "pokemony.head(10)"
   ]
  },
  {
   "cell_type": "code",
   "execution_count": null,
   "metadata": {},
   "outputs": [],
   "source": [
    "# podstawowe informacje o bazie pokemonów\n",
    "pokemony.info()"
   ]
  },
  {
   "cell_type": "code",
   "execution_count": null,
   "metadata": {},
   "outputs": [],
   "source": [
    "# wyznaczenie liczby możliwych kombinacji zestawu 6 pokemonów\n",
    "from math import factorial\n",
    "\n",
    "n =len(pokemony['pokename'].unique())\n",
    "print(n)\n",
    "k = 6\n",
    "liczba_kombinacji = factorial(n)/(factorial(k)*factorial(n-k))\n",
    "print('{:.2E}'.format(liczba_kombinacji))"
   ]
  },
  {
   "cell_type": "code",
   "execution_count": null,
   "metadata": {},
   "outputs": [],
   "source": [
    "# udziały procentowe wg typu\n",
    "pokemony['type1'].value_counts() # zlicza i jednocześnie grupuje rekordy w kolumnie\n",
    "udzialy_procentowe = round(pokemony['type1'].value_counts(normalize=True)*100,2)\n",
    "pierwsze = 8\n",
    "print(udzialy_procentowe[:pierwsze])\n",
    "print()\n",
    "udzial_procentowy_wybranych = udzialy_procentowe[:pierwsze].sum()\n",
    "print('Wybrane typy stanowią {}% populacji '.format(udzial_procentowy_wybranych))"
   ]
  },
  {
   "cell_type": "code",
   "execution_count": null,
   "metadata": {},
   "outputs": [],
   "source": [
    "from matplotlib import pyplot as plt\n",
    "# from numpy import arange\n",
    "plt.rcParams.update({'font.size': 15})\n",
    "\n",
    "liczebnosc = pokemony['type1'].value_counts()\n",
    "values = liczebnosc.values\n",
    "labels = liczebnosc.index.values\n",
    "\n",
    "# fig, ax = plt.subplots()\n",
    "fig = plt.figure(figsize=(20,10))\n",
    "ax = fig.add_subplot(1,1,1)\n",
    "\n",
    "for label, value in zip(labels, values):\n",
    "    ax.bar(label, value, 0.75)\n",
    "\n",
    "ax.set_xticklabels(labels, rotation=90)\n",
    "# ax.set_xticklabels(labels, rotation=90, fontsize=20)\n",
    "# ax.set_yticklabels(fontsize=20)\n",
    "# matplotlib.rc('xtick', labelsize=20) \n",
    "# matplotlib.rc('ytick', labelsize=20)\n",
    "\n",
    "plt.title('Liczebność pokemonów wg typu', fontsize=30)\n",
    "plt.show()"
   ]
  },
  {
   "cell_type": "code",
   "execution_count": null,
   "metadata": {},
   "outputs": [],
   "source": [
    "# udziały procentowe wg typu dla 'pokelevel' = 100\n",
    "level_100 = pokemony[pokemony['pokelevel'] == 100]\n",
    "level_100_proc = round(level_100['type1'].value_counts(normalize=True)*100,2)\n",
    "level_100_proc"
   ]
  },
  {
   "cell_type": "code",
   "execution_count": null,
   "metadata": {},
   "outputs": [],
   "source": [
    "from matplotlib import pyplot as plt\n",
    "# from numpy import arange\n",
    "plt.rcParams.update({'font.size': 15})\n",
    "\n",
    "liczebnosc_100 = pokemony[pokemony['pokelevel'] == 100]['type1'].value_counts()\n",
    "values = liczebnosc_100.values\n",
    "labels = liczebnosc_100.index.values\n",
    "\n",
    "# fig, ax = plt.subplots()\n",
    "fig = plt.figure(figsize=(20,10))\n",
    "ax = fig.add_subplot(1,1,1)\n",
    "\n",
    "for label, value in zip(labels, values):\n",
    "    ax.bar(label, value, 0.75)\n",
    "\n",
    "ax.set_xticklabels(labels, rotation=90)\n",
    "# ax.set_xticklabels(labels, rotation=90, fontsize=20)\n",
    "# ax.set_yticklabels(fontsize=20)\n",
    "# matplotlib.rc('xtick', labelsize=20) \n",
    "# matplotlib.rc('ytick', labelsize=20)\n",
    "\n",
    "plt.title('Liczebność pokemonów wg typu dla pokelevel = 100', fontsize=30)\n",
    "plt.show()"
   ]
  },
  {
   "cell_type": "code",
   "execution_count": null,
   "metadata": {},
   "outputs": [],
   "source": [
    "# udziały procentowe wg gatunku\n",
    "round(pokemony['pokename'].value_counts(normalize=True)[:20]*100,2)\n",
    "\n",
    "# wniosek: analizowanie pokemonów wg gatunku nie ma sensu (zbyt równomierny rozkład)"
   ]
  },
  {
   "cell_type": "code",
   "execution_count": null,
   "metadata": {},
   "outputs": [],
   "source": [
    "from matplotlib import pyplot as plt\n",
    "# from numpy import arange\n",
    "plt.rcParams.update({'font.size': 15})\n",
    "\n",
    "liczebnosc_gatunki = pokemony['pokename'].value_counts()[:20]\n",
    "values = liczebnosc_gatunki.values\n",
    "labels = liczebnosc_gatunki.index.values\n",
    "\n",
    "# fig, ax = plt.subplots()\n",
    "fig = plt.figure(figsize=(20,10))\n",
    "ax = fig.add_subplot(1,1,1)\n",
    "\n",
    "for label, value in zip(labels, values):\n",
    "    ax.bar(label, value, 0.75)\n",
    "\n",
    "ax.set_xticklabels(labels, rotation=90)\n",
    "# ax.set_xticklabels(labels, rotation=90, fontsize=20)\n",
    "# ax.set_yticklabels(fontsize=20)\n",
    "# matplotlib.rc('xtick', labelsize=20) \n",
    "# matplotlib.rc('ytick', labelsize=20)\n",
    "\n",
    "plt.title('Liczebność pokemonów wg gatunku', fontsize=30)\n",
    "plt.show()"
   ]
  },
  {
   "cell_type": "code",
   "execution_count": null,
   "metadata": {},
   "outputs": [],
   "source": [
    "# max(pokelevel) w ramach podziału na gatunki\n",
    "unikalne_top = pokemony.loc[pokemony.groupby('pokename')['pokelevel'].idxmax()]\n",
    "unikalne_top"
   ]
  },
  {
   "cell_type": "code",
   "execution_count": null,
   "metadata": {},
   "outputs": [],
   "source": [
    "# max(pokelevel) w ramach podziału na gatunki\n",
    "# max(attack) w ramach podziału na typ\n",
    "best_attack = unikalne_top.loc[unikalne_top.groupby('type1')['attack'].idxmax()]\n",
    "best_attack"
   ]
  },
  {
   "cell_type": "code",
   "execution_count": null,
   "metadata": {},
   "outputs": [],
   "source": [
    "# wczytanie tabeli współczynników ataku\n",
    "attack_table = pd.read_csv('attack_table.csv')\n",
    "attack_table"
   ]
  },
  {
   "cell_type": "code",
   "execution_count": null,
   "metadata": {},
   "outputs": [],
   "source": [
    "# akumulator wspomagający wybór drużyny ofensywnej\n",
    "wszystkie_typy = pokemony['type1'].unique()\n",
    "istotne_typy = udzialy_procentowe.index.values[:8]\n",
    "\n",
    "ranking_atak = {}\n",
    "for typ in wszystkie_typy:\n",
    "    rate = 0\n",
    "    for przeciwnik in istotne_typy:\n",
    "        zestaw = attack_table[(attack_table['attack']==typ) & (attack_table['defense']==przeciwnik)]\n",
    "        if zestaw['effectiveness'].values==2:\n",
    "            rate+=1\n",
    "    ranking_atak[typ]=rate\n",
    "ranking_atak           "
   ]
  },
  {
   "cell_type": "code",
   "execution_count": null,
   "metadata": {},
   "outputs": [],
   "source": [
    "# wybrane typy pokemenów drużyny ofensywnej\n",
    "# skład drużyny ofensywnej\n",
    "attack_types = ['Fighting', 'Fire', 'Flying', 'Grass', 'Ground', 'Rock']\n",
    "\n",
    "attack_team = best_attack[best_attack['type1'].isin(attack_types)]\n",
    "attack_team"
   ]
  },
  {
   "cell_type": "code",
   "execution_count": null,
   "metadata": {},
   "outputs": [],
   "source": [
    "# max(pokelevel) w ramach podziału na gatunki\n",
    "# max(defense) w ramach podziału na typ\n",
    "best_defense = unikalne_top.loc[unikalne_top.groupby('type1')['defense'].idxmax()]\n",
    "best_defense"
   ]
  },
  {
   "cell_type": "code",
   "execution_count": null,
   "metadata": {},
   "outputs": [],
   "source": [
    "# akumulator wspomagający wybór drużyny defensywnej\n",
    "wszystkie_typy = pokemony['type1'].unique()\n",
    "istotne_typy = udzialy_procentowe.index.values[:8]\n",
    "\n",
    "ranking_obrona = {}\n",
    "for typ in wszystkie_typy:\n",
    "    rate = 0\n",
    "    for przeciwnik in istotne_typy:\n",
    "        zestaw = attack_table[(attack_table['attack']==przeciwnik) & (attack_table['defense']==typ)]\n",
    "        if zestaw['effectiveness'].values==0.5:\n",
    "            rate+=1\n",
    "    ranking_obrona[typ]=rate\n",
    "ranking_obrona    "
   ]
  },
  {
   "cell_type": "code",
   "execution_count": null,
   "metadata": {},
   "outputs": [],
   "source": [
    "# wybrane typy pokemenów drużyny defensywnej\n",
    "# skład drużyny defensywnej\n",
    "defense_types = ['Dragon', 'Fire', 'Grass', 'Poison', 'Rock', 'Steel']\n",
    "\n",
    "defense_team = best_defense[best_defense['type1'].isin(defense_types)]\n",
    "defense_team"
   ]
  },
  {
   "cell_type": "code",
   "execution_count": null,
   "metadata": {},
   "outputs": [],
   "source": [
    "# zgrubna analiza dla 5 przedziałów 'pokelevel'\n",
    "level_2_20 = pokemony[(pokemony['pokelevel'] <= 20)]\n",
    "level_21_40 = pokemony[(pokemony['pokelevel'] > 20) & (pokemony['pokelevel'] <= 40)]\n",
    "level_41_60 = pokemony[(pokemony['pokelevel'] > 40) & (pokemony['pokelevel'] <= 60)]\n",
    "level_61_80 = pokemony[(pokemony['pokelevel'] > 60) & (pokemony['pokelevel'] <= 80)]\n",
    "level_81_100 = pokemony[(pokemony['pokelevel'] > 80)]\n",
    "\n",
    "przedziały = (level_2_20, level_21_40, level_41_60, level_61_80, level_81_100)\n",
    "\n",
    "for i in przedziały:\n",
    "    print('pokelevel:', i['pokelevel'].min(), '-', i['pokelevel'].max())\n",
    "    print('hp:', i['hp'].min(), '-', i['hp'].max())\n",
    "    print('attack:', i['attack'].min(), '-', i['attack'].max())\n",
    "    print('defense:', i['defense'].min(), '-', i['defense'].max())\n",
    "    print('liczba_pokemonów:', i['trainer_id'].count(), '\\n')\n"
   ]
  },
  {
   "cell_type": "code",
   "execution_count": null,
   "metadata": {},
   "outputs": [],
   "source": [
    "# from matplotlib import pyplot as plt\n",
    "\n",
    "# %matplotlib inline\n",
    "\n",
    "# pokemony['type1'].value_counts().plot.bar()\n",
    "\n",
    "# plt.bar(labels, values)\n",
    "\n",
    "# for label, value in zip(labels, values):\n",
    "#     plt.bar(label, value)\n",
    "\n",
    "# plt.show()"
   ]
  }
 ],
 "metadata": {
  "kernelspec": {
   "display_name": "Python 3",
   "language": "python",
   "name": "python3"
  },
  "language_info": {
   "codemirror_mode": {
    "name": "ipython",
    "version": 3
   },
   "file_extension": ".py",
   "mimetype": "text/x-python",
   "name": "python",
   "nbconvert_exporter": "python",
   "pygments_lexer": "ipython3",
   "version": "3.7.4"
  }
 },
 "nbformat": 4,
 "nbformat_minor": 2
}
