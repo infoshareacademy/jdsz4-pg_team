{
 "cells": [
  {
   "cell_type": "code",
   "execution_count": 1,
   "metadata": {},
   "outputs": [],
   "source": [
    "#attack effective table\n",
    "eff_tab = [ ('Bug', 'Bug', 1), ('Bug', 'Dark', 2), ('Bug', 'Dragon', 1), ('Bug', 'Electric', 1), ('Bug', 'Fairy', 0.5), \n",
    "           ('Bug', 'Fighting', 0.5), ('Bug', 'Fire', 0.5), ('Bug', 'Flying', 0.5), ('Bug', 'Ghost', 0.5), ('Bug', 'Grass', 2), \n",
    "           ('Bug', 'Ground', 1), ('Bug', 'Ice', 1), ('Bug', 'Normal', 1), ('Bug', 'Poison', 0.5), ('Bug', 'Psychic', 2), \n",
    "           ('Bug', 'Rock', 1), ('Bug', 'Steel', 0.5), ('Bug', 'Water', 1), ('Dark', 'Bug', 1), ('Dark', 'Dark', 0.5), \n",
    "           ('Dark', 'Dragon', 1), ('Dark', 'Electric', 1), ('Dark', 'Fairy', 0.5), ('Dark', 'Fighting', 0.5), ('Dark', 'Fire', 1), \n",
    "           ('Dark', 'Flying', 1), ('Dark', 'Ghost', 2), ('Dark', 'Grass', 1), ('Dark', 'Ground', 1), ('Dark', 'Ice', 1), \n",
    "           ('Dark', 'Normal', 1), ('Dark', 'Poison', 1), ('Dark', 'Psychic', 2), ('Dark', 'Rock', 1), ('Dark', 'Steel', 1), \n",
    "           ('Dark', 'Water', 1), ('Dragon', 'Bug', 1), ('Dragon', 'Dark', 1), ('Dragon', 'Dragon', 2), ('Dragon', 'Electric', 1), \n",
    "           ('Dragon', 'Fairy', 0), ('Dragon', 'Fighting', 1), ('Dragon', 'Fire', 1), ('Dragon', 'Flying', 1), ('Dragon', 'Ghost', 1), \n",
    "           ('Dragon', 'Grass', 1), ('Dragon', 'Ground', 1), ('Dragon', 'Ice', 1), ('Dragon', 'Normal', 1), ('Dragon', 'Poison', 1), \n",
    "           ('Dragon', 'Psychic', 1), ('Dragon', 'Rock', 1), ('Dragon', 'Steel', 0.5), ('Dragon', 'Water', 1), ('Electric', 'Bug', 1), \n",
    "           ('Electric', 'Dark', 1), ('Electric', 'Dragon', 0.5), ('Electric', 'Electric', 0.5), ('Electric', 'Fairy', 1), \n",
    "           ('Electric', 'Fighting', 1), ('Electric', 'Fire', 1), ('Electric', 'Flying', 2), ('Electric', 'Ghost', 1), \n",
    "           ('Electric', 'Grass', 0.5), ('Electric', 'Ground', 0), ('Electric', 'Ice', 1), ('Electric', 'Normal', 1), \n",
    "           ('Electric', 'Poison', 1), ('Electric', 'Psychic', 1), ('Electric', 'Rock', 1), ('Electric', 'Steel', 1), \n",
    "           ('Electric', 'Water', 2), ('Fairy', 'Bug', 1), ('Fairy', 'Dark', 2), ('Fairy', 'Dragon', 2), ('Fairy', 'Electric', 1), \n",
    "           ('Fairy', 'Fairy', 1), ('Fairy', 'Fighting', 2), ('Fairy', 'Fire', 0.5), ('Fairy', 'Flying', 1), ('Fairy', 'Ghost', 1), \n",
    "           ('Fairy', 'Grass', 1), ('Fairy', 'Ground', 1), ('Fairy', 'Ice', 1), ('Fairy', 'Normal', 1), ('Fairy', 'Poison', 0.5), \n",
    "           ('Fairy', 'Psychic', 1), ('Fairy', 'Rock', 1), ('Fairy', 'Steel', 0.5), ('Fairy', 'Water', 1), ('Fighting', 'Bug', 0.5), \n",
    "           ('Fighting', 'Dark', 2), ('Fighting', 'Dragon', 1), ('Fighting', 'Electric', 1), ('Fighting', 'Fairy', 0.5), \n",
    "           ('Fighting', 'Fighting', 1), ('Fighting', 'Fire', 1), ('Fighting', 'Flying', 0.5), ('Fighting', 'Ghost', 0), \n",
    "           ('Fighting', 'Grass', 1), ('Fighting', 'Ground', 1), ('Fighting', 'Ice', 2), ('Fighting', 'Normal', 2), ('Fighting', 'Poison', 0.5), \n",
    "           ('Fighting', 'Psychic', 0.5), ('Fighting', 'Rock', 2), ('Fighting', 'Steel', 2), ('Fighting', 'Water', 1), ('Fire', 'Bug', 2), \n",
    "           ('Fire', 'Dark', 1), ('Fire', 'Dragon', 0.5), ('Fire', 'Electric', 1), ('Fire', 'Fairy', 1), ('Fire', 'Fighting', 1), \n",
    "           ('Fire', 'Fire', 0.5), ('Fire', 'Flying', 1), ('Fire', 'Ghost', 1), ('Fire', 'Grass', 2), ('Fire', 'Ground', 1), ('Fire', 'Ice', 2), \n",
    "           ('Fire', 'Normal', 1), ('Fire', 'Poison', 1), ('Fire', 'Psychic', 1), ('Fire', 'Rock', 0.5), ('Fire', 'Steel', 2), ('Fire', 'Water', 0.5), \n",
    "           ('Flying', 'Bug', 2), ('Flying', 'Dark', 1), ('Flying', 'Dragon', 1), ('Flying', 'Electric', 0.5), ('Flying', 'Fairy', 1), ('Flying', 'Fighting', 2), \n",
    "           ('Flying', 'Fire', 1), ('Flying', 'Flying', 1), ('Flying', 'Ghost', 1), ('Flying', 'Grass', 2), ('Flying', 'Ground', 1), ('Flying', 'Ice', 1), \n",
    "           ('Flying', 'Normal', 1), ('Flying', 'Poison', 1), ('Flying', 'Psychic', 1), ('Flying', 'Rock', 0.5), ('Flying', 'Steel', 0.5), ('Flying', 'Water', 1), \n",
    "           ('Ghost', 'Bug', 1), ('Ghost', 'Dark', 0.5), ('Ghost', 'Dragon', 1), ('Ghost', 'Electric', 1), ('Ghost', 'Fairy', 1), ('Ghost', 'Fighting', 1), \n",
    "           ('Ghost', 'Fire', 1), ('Ghost', 'Flying', 1), ('Ghost', 'Ghost', 2), ('Ghost', 'Grass', 1), ('Ghost', 'Ground', 1), ('Ghost', 'Ice', 1), \n",
    "           ('Ghost', 'Normal', 0), ('Ghost', 'Poison', 1), ('Ghost', 'Psychic', 2), ('Ghost', 'Rock', 1), ('Ghost', 'Steel', 1), ('Ghost', 'Water', 1), \n",
    "           ('Grass', 'Bug', 0.5), ('Grass', 'Dark', 1), ('Grass', 'Dragon', 0.5), ('Grass', 'Electric', 1), ('Grass', 'Fairy', 1), ('Grass', 'Fighting', 1), \n",
    "           ('Grass', 'Fire', 0.5), ('Grass', 'Flying', 0.5), ('Grass', 'Ghost', 1), ('Grass', 'Grass', 0.5), ('Grass', 'Ground', 2), ('Grass', 'Ice', 1), \n",
    "           ('Grass', 'Normal', 1), ('Grass', 'Poison', 0.5), ('Grass', 'Psychic', 1), ('Grass', 'Rock', 2), ('Grass', 'Steel', 0.5), ('Grass', 'Water', 2), \n",
    "           ('Ground', 'Bug', 0.5), ('Ground', 'Dark', 1), ('Ground', 'Dragon', 1), ('Ground', 'Electric', 2), ('Ground', 'Fairy', 1), ('Ground', 'Fighting', 1), \n",
    "           ('Ground', 'Fire', 2), ('Ground', 'Flying', 0), ('Ground', 'Ghost', 1), ('Ground', 'Grass', 0.5), ('Ground', 'Ground', 1), ('Ground', 'Ice', 1), \n",
    "           ('Ground', 'Normal', 1), ('Ground', 'Poison', 2), ('Ground', 'Psychic', 1), ('Ground', 'Rock', 2), ('Ground', 'Steel', 2), ('Ground', 'Water', 1), \n",
    "           ('Ice', 'Bug', 1), ('Ice', 'Dark', 1), ('Ice', 'Dragon', 2), ('Ice', 'Electric', 1), ('Ice', 'Fairy', 1), ('Ice', 'Fighting', 1), ('Ice', 'Fire', 0.5), \n",
    "           ('Ice', 'Flying', 2), ('Ice', 'Ghost', 1), ('Ice', 'Grass', 2), ('Ice', 'Ground', 2), ('Ice', 'Ice', 0.5), ('Ice', 'Normal', 1), ('Ice', 'Poison', 1), \n",
    "           ('Ice', 'Psychic', 1), ('Ice', 'Rock', 1), ('Ice', 'Steel', 0.5), ('Ice', 'Water', 0.5), ('Normal', 'Bug', 1), ('Normal', 'Dark', 1), ('Normal', 'Dragon', 1), \n",
    "           ('Normal', 'Electric', 1), ('Normal', 'Fairy', 1), ('Normal', 'Fighting', 1), ('Normal', 'Fire', 1), ('Normal', 'Flying', 1), ('Normal', 'Ghost', 0), \n",
    "           ('Normal', 'Grass', 1), ('Normal', 'Ground', 1), ('Normal', 'Ice', 1), ('Normal', 'Normal', 1), ('Normal', 'Poison', 1), ('Normal', 'Psychic', 1), \n",
    "           ('Normal', 'Rock', 0.5), ('Normal', 'Steel', 0.5), ('Normal', 'Water', 1), ('Poison', 'Bug', 1), ('Poison', 'Dark', 1), ('Poison', 'Dragon', 1), \n",
    "           ('Poison', 'Electric', 1), ('Poison', 'Fairy', 2), ('Poison', 'Fighting', 1), ('Poison', 'Fire', 1), ('Poison', 'Flying', 1), ('Poison', 'Ghost', 0.5), \n",
    "           ('Poison', 'Grass', 2), ('Poison', 'Ground', 0.5), ('Poison', 'Ice', 1), ('Poison', 'Normal', 1), ('Poison', 'Poison', 0.5), ('Poison', 'Psychic', 1), \n",
    "           ('Poison', 'Rock', 0.5), ('Poison', 'Steel', 0), ('Poison', 'Water', 1), ('Psychic', 'Bug', 1), ('Psychic', 'Dark', 0), ('Psychic', 'Dragon', 1), \n",
    "           ('Psychic', 'Electric', 1), ('Psychic', 'Fairy', 1), ('Psychic', 'Fighting', 2), ('Psychic', 'Fire', 1), ('Psychic', 'Flying', 1), ('Psychic', 'Ghost', 1), \n",
    "           ('Psychic', 'Grass', 1), ('Psychic', 'Ground', 1), ('Psychic', 'Ice', 1), ('Psychic', 'Normal', 1), ('Psychic', 'Poison', 2), ('Psychic', 'Psychic', 0.5), \n",
    "           ('Psychic', 'Rock', 1), ('Psychic', 'Steel', 0.5), ('Psychic', 'Water', 1), ('Rock', 'Bug', 2), ('Rock', 'Dark', 1), ('Rock', 'Dragon', 1), ('Rock', 'Electric', 1), \n",
    "           ('Rock', 'Fairy', 1), ('Rock', 'Fighting', 0.5), ('Rock', 'Fire', 2), ('Rock', 'Flying', 2), ('Rock', 'Ghost', 1), ('Rock', 'Grass', 1), ('Rock', 'Ground', 0.5), \n",
    "           ('Rock', 'Ice', 2), ('Rock', 'Normal', 1), ('Rock', 'Poison', 1), ('Rock', 'Psychic', 1), ('Rock', 'Rock', 1), ('Rock', 'Steel', 0.5), ('Rock', 'Water', 1), \n",
    "           ('Steel', 'Bug', 1), ('Steel', 'Dark', 1), ('Steel', 'Dragon', 1), ('Steel', 'Electric', 0.5), ('Steel', 'Fairy', 2), ('Steel', 'Fighting', 1), ('Steel', 'Fire', 0.5), \n",
    "           ('Steel', 'Flying', 1), ('Steel', 'Ghost', 1), ('Steel', 'Grass', 1), ('Steel', 'Ground', 1), ('Steel', 'Ice', 2), ('Steel', 'Normal', 1), ('Steel', 'Poison', 1), \n",
    "           ('Steel', 'Psychic', 1), ('Steel', 'Rock', 2), ('Steel', 'Steel', 0.5), ('Steel', 'Water', 0.5), ('Water', 'Bug', 1), ('Water', 'Dark', 1), ('Water', 'Dragon', 0.5), \n",
    "           ('Water', 'Electric', 1), ('Water', 'Fairy', 1), ('Water', 'Fighting', 1), ('Water', 'Fire', 2), ('Water', 'Flying', 1), ('Water', 'Ghost', 1), ('Water', 'Grass', 0.5), \n",
    "           ('Water', 'Ground', 2), ('Water', 'Ice', 1), ('Water', 'Normal', 1), ('Water', 'Poison', 1), ('Water', 'Psychic', 1), ('Water', 'Rock', 2), ('Water', 'Steel', 1), \n",
    "           ('Water', 'Water', 0.5)]\n"
   ]
  },
  {
   "cell_type": "code",
   "execution_count": 2,
   "metadata": {},
   "outputs": [
    {
     "name": "stdout",
     "output_type": "stream",
     "text": [
      "2\n"
     ]
    }
   ],
   "source": [
    "#funkcja pobierajaca effetywnosc ataku        \n",
    "def get_eff(type_a,type_b):\n",
    "    for i in range(len(eff_tab)):\n",
    "        if (eff_tab[i][0]==type_a) and (eff_tab[i][1]==type_b):\n",
    "            return eff_tab[i][2]\n",
    "\n",
    "x = get_eff('Water','Ground')\n",
    "print(x)"
   ]
  },
  {
   "cell_type": "code",
   "execution_count": 36,
   "metadata": {},
   "outputs": [],
   "source": [
    "from numpy.random import random\n",
    "def get_random():\n",
    "    return 2*random()-1\n"
   ]
  },
  {
   "cell_type": "code",
   "execution_count": 4,
   "metadata": {},
   "outputs": [],
   "source": [
    "def punch(att_fast,att_slow,def_fast,def_slow,hp_fast,hp_slow,eff_fast,eff_slow):\n",
    "    print(att_fast,att_slow,def_fast,def_slow,hp_fast,hp_slow)\n",
    "    punch_fast = (att_fast - def_slow)*eff_fast\n",
    "    if punch_fast >0:\n",
    "        if punch_fast <= hp_slow:\n",
    "            hp_slow=hp_slow-punch_fast\n",
    "        else:\n",
    "            hp_slow = 0\n",
    "            return hp_fast,hp_slow\n",
    "    punch_slow = (att_slow - def_fast)*eff_slow\n",
    "    if punch_slow > 0:\n",
    "        if punch_slow <= hp_fast:\n",
    "            hp_fast=hp_fast-punch_slow\n",
    "        else:\n",
    "            hp_fast = 0\n",
    "            return hp_fast,hp_slow\n",
    "    return hp_fast,hp_slow\n",
    "    #print(att_fast,att_slow,def_fast,def_slow,hp_fast,hp_slow)\n"
   ]
  },
  {
   "cell_type": "code",
   "execution_count": null,
   "metadata": {},
   "outputs": [],
   "source": []
  },
  {
   "cell_type": "code",
   "execution_count": 72,
   "metadata": {},
   "outputs": [
    {
     "name": "stdout",
     "output_type": "stream",
     "text": [
      "BEGIN\n",
      "Smeargle 100 hp 157 68 90 60 Normal 1\n",
      "Ninetales 100 hp 134 86 87 44 Fire 1\n",
      "random -0.6702253199265913\n",
      "- Ninetales\n",
      "87 90 86 68 134 157\n",
      "END\n",
      "Smeargle 100 hp 138 68 90 60 Normal\n",
      "Ninetales 100 hp 130 86 87 44 Fire\n"
     ]
    }
   ],
   "source": [
    "name_a = 'Smeargle'\n",
    "speed_a = 100\n",
    "hp_a = 157\n",
    "def_a = 68\n",
    "att_a = 90\n",
    "level_a = 60\n",
    "type_a = 'Normal'\n",
    "\n",
    "name_b = 'Ninetales'\n",
    "speed_b = 100\n",
    "hp_b = 134\n",
    "def_b = 86\n",
    "att_b = 87\n",
    "level_b = 44\n",
    "type_b = 'Fire'\n",
    "eff_a = get_eff(type_a,type_b)\n",
    "eff_b = get_eff(type_b,type_a)\n",
    "\n",
    "print('BEGIN')\n",
    "print(name_a,speed_a,'hp', hp_a,def_a,att_a,level_a,type_a,eff_a)\n",
    "print(name_b,speed_b,'hp', hp_b,def_b,att_b,level_b,type_b,eff_b)\n",
    "#Walka\n",
    "if speed_a > speed_b:\n",
    "    (hp_a,hp_b) = punch(att_a,att_b,def_a,def_b,hp_a,hp_b,eff_a,eff_b)\n",
    "elif speed_a < speed_b:\n",
    "    (hp_b,hp_a) = punch(att_b,att_a,def_b,def_a,hp_b,hp_a,eff_b,eff_a)\n",
    "else:\n",
    "    x=get_random()\n",
    "    print('random',x)\n",
    "    if x >= 0:\n",
    "        (hp_a,hp_b) = punch(att_a,att_b,def_a,def_b,hp_a,hp_b,eff_a,eff_b)\n",
    "    else:\n",
    "        (hp_b,hp_a) = punch(att_b,att_a,def_b,def_a,hp_b,hp_a,eff_b,eff_a)\n",
    "\n",
    "print('END')\n",
    "print(name_a,speed_a,'hp', hp_a,def_a,att_a,level_a,type_a)\n",
    "print(name_b,speed_b,'hp', hp_b,def_b,att_b,level_b,type_b)\n",
    "\n"
   ]
  }
 ],
 "metadata": {
  "kernelspec": {
   "display_name": "Python 3",
   "language": "python",
   "name": "python3"
  },
  "language_info": {
   "codemirror_mode": {
    "name": "ipython",
    "version": 3
   },
   "file_extension": ".py",
   "mimetype": "text/x-python",
   "name": "python",
   "nbconvert_exporter": "python",
   "pygments_lexer": "ipython3",
   "version": "3.7.4"
  }
 },
 "nbformat": 4,
 "nbformat_minor": 2
}
