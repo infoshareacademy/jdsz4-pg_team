{
 "cells": [
  {
   "cell_type": "code",
   "execution_count": 5,
   "metadata": {},
   "outputs": [],
   "source": [
    "import pandas as pd\n",
    "import sqlite3 as sql3\n"
   ]
  },
  {
   "cell_type": "code",
   "execution_count": 6,
   "metadata": {},
   "outputs": [],
   "source": [
    "con = sql3.connect('database.sqlite')\n",
    "df_pokemons= pd.read_sql('select * from Pokemon', con)\n",
    "cursor = con.cursor()"
   ]
  },
  {
   "cell_type": "code",
   "execution_count": 7,
   "metadata": {},
   "outputs": [],
   "source": [
    "#poprawne\n",
    "\n",
    "def pokemonA():\n",
    "    while True:\n",
    "        print('Enter name of pokemon A.')\n",
    "        pokemon_a_name = str(input()).capitalize()\n",
    "        if pokemon_a_name.isalpha():\n",
    "            while True:\n",
    "                print('What is it\\'s level?')\n",
    "                pokemon_a_level = input()\n",
    "                if pokemon_a_level.isdecimal():\n",
    "                    speed_a_statement = \"select avg(speed)from Pokemon where pokename = '%s' and pokelevel = '%s'\" %(pokemon_a_name,pokemon_a_level)\n",
    "                    cursor.execute(speed_a_statement)\n",
    "                    data = cursor.fetchone()\n",
    "                    speed_a = str(\"%s \" % data) \n",
    "                    print('Speed of ' + str(pokemon_a_name) + ' is equal to: ' + str(speed_a))\n",
    "                    break\n",
    "                else:\n",
    "                    print('Level must be and integer value')\n",
    "            break\n",
    "        else: \n",
    "            print('Please check name and type it in again. Something seems to be wrong.')"
   ]
  },
  {
   "cell_type": "code",
   "execution_count": 230,
   "metadata": {},
   "outputs": [],
   "source": [
    "def pokemonA():\n",
    "    while True:\n",
    "        print('Enter name of pokemon A.')\n",
    "        pokemon_a_name = str(input()).capitalize()\n",
    "        if pokemon_a_name.isalpha():\n",
    "            while True:\n",
    "                print('What is it\\'s level?')\n",
    "                pokemon_a_level = input()\n",
    "                if pokemon_a_level.isdecimal():\n",
    "                    speed_a_statement = \"select case when avg(speed) is null then 1 else avg(speed) end from Pokemon where pokename = '%s' and pokelevel = '%s'\" %(pokemon_a_name,pokemon_a_level)\n",
    "                    cursor.execute(speed_a_statement)\n",
    "                    result = cursor.execute(speed_a_statement)\n",
    "                    data = cursor.fetchone()\n",
    "                    speed_a = str(\"%s \" % data)\n",
    "                    if speed_a == '1':\n",
    "                        print('This is not a Pokemon you are looking for.')  \n",
    "                    else: \n",
    "                        print('Speed of ' + str(pokemon_a_name) + ' is equal to: ' + str(speed_a))\n",
    "                        break\n",
    "                else:\n",
    "                    print('Level must be and integer value')\n",
    "            break\n",
    "        else: \n",
    "            print('Please check name and type it in again. Something seems to be wrong.')"
   ]
  },
  {
   "cell_type": "code",
   "execution_count": 9,
   "metadata": {},
   "outputs": [
    {
     "name": "stdout",
     "output_type": "stream",
     "text": [
      "Enter name of pokemon A.\n",
      "wailord\n",
      "What is it's level?\n",
      "57\n",
      "Speed of Wailord is equal to: 93.0 \n"
     ]
    }
   ],
   "source": [
    "pokemonA()"
   ]
  },
  {
   "cell_type": "code",
   "execution_count": null,
   "metadata": {},
   "outputs": [],
   "source": []
  },
  {
   "cell_type": "code",
   "execution_count": null,
   "metadata": {},
   "outputs": [],
   "source": []
  },
  {
   "cell_type": "code",
   "execution_count": null,
   "metadata": {},
   "outputs": [],
   "source": []
  },
  {
   "cell_type": "code",
   "execution_count": null,
   "metadata": {},
   "outputs": [],
   "source": []
  },
  {
   "cell_type": "code",
   "execution_count": null,
   "metadata": {},
   "outputs": [],
   "source": []
  },
  {
   "cell_type": "code",
   "execution_count": null,
   "metadata": {},
   "outputs": [],
   "source": []
  }
 ],
 "metadata": {
  "kernelspec": {
   "display_name": "Python 3",
   "language": "python",
   "name": "python3"
  },
  "language_info": {
   "codemirror_mode": {
    "name": "ipython",
    "version": 3
   },
   "file_extension": ".py",
   "mimetype": "text/x-python",
   "name": "python",
   "nbconvert_exporter": "python",
   "pygments_lexer": "ipython3",
   "version": "3.7.4"
  }
 },
 "nbformat": 4,
 "nbformat_minor": 2
}
