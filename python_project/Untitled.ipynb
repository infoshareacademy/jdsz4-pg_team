{
 "cells": [
  {
   "cell_type": "markdown",
   "metadata": {},
   "source": [
    "**Ogólne założenia projektu:**\n",
    "* eksploracja danych(jeśli są nowe), można początkowo(ale nie trzeba) skorzystać z sql’a, ale potem już w pythonie\n",
    "* wybór interesujących cech\n",
    "* zastosowanie podstawowych metod statystycznych\n",
    "* wprowadzenie analizy czynnikowej(PCA)\n",
    "* wykonanie wykresów, wizualizacji w pythonie\n",
    "* zastosowanie magic/widget\n",
    "* zastosowanie obiektowości w aplikacji\n",
    "Mistrzowski zestaw pokemonów\n",
    "https://www.kaggle.com/lrcusack/pokemontrainers#database.sqlite\n",
    "\n",
    "\n",
    "**Cel Statystyczny:** Ograniczając się do pewnej, maksymalnej liczby zebranych pokemonów, należy określić potencjalnie najelpszy zestaw w starciu z jakimkolwiek innym przeciwnikiem.\n",
    "\n",
    "\n",
    "**Cel Python:** Symulator walki"
   ]
  },
  {
   "cell_type": "code",
   "execution_count": 1,
   "metadata": {},
   "outputs": [],
   "source": [
    "import pandas as pd"
   ]
  },
  {
   "cell_type": "code",
   "execution_count": 10,
   "metadata": {},
   "outputs": [],
   "source": [
    "df = pd.read_csv('database/main_Pokemon.csv')"
   ]
  },
  {
   "cell_type": "code",
   "execution_count": 12,
   "metadata": {},
   "outputs": [
    {
     "name": "stdout",
     "output_type": "stream",
     "text": [
      "<class 'pandas.core.frame.DataFrame'>\n",
      "RangeIndex: 28804 entries, 0 to 28803\n",
      "Data columns (total 13 columns):\n",
      "trainer_id    28804 non-null int64\n",
      "place         28804 non-null int64\n",
      "pokename      28804 non-null object\n",
      "pokelevel     28804 non-null int64\n",
      "type1         28804 non-null object\n",
      "type2         28804 non-null object\n",
      "hp            28804 non-null int64\n",
      "maxhp         28804 non-null int64\n",
      "attack        28804 non-null int64\n",
      "defense       28804 non-null int64\n",
      "spatk         28804 non-null int64\n",
      "spdef         28804 non-null int64\n",
      "speed         28804 non-null int64\n",
      "dtypes: int64(10), object(3)\n",
      "memory usage: 2.9+ MB\n"
     ]
    }
   ],
   "source": [
    "df.info()"
   ]
  },
  {
   "cell_type": "code",
   "execution_count": 13,
   "metadata": {},
   "outputs": [
    {
     "data": {
      "text/html": [
       "<div>\n",
       "<style scoped>\n",
       "    .dataframe tbody tr th:only-of-type {\n",
       "        vertical-align: middle;\n",
       "    }\n",
       "\n",
       "    .dataframe tbody tr th {\n",
       "        vertical-align: top;\n",
       "    }\n",
       "\n",
       "    .dataframe thead th {\n",
       "        text-align: right;\n",
       "    }\n",
       "</style>\n",
       "<table border=\"1\" class=\"dataframe\">\n",
       "  <thead>\n",
       "    <tr style=\"text-align: right;\">\n",
       "      <th></th>\n",
       "      <th>trainer_id</th>\n",
       "      <th>place</th>\n",
       "      <th>pokename</th>\n",
       "      <th>pokelevel</th>\n",
       "      <th>type1</th>\n",
       "      <th>type2</th>\n",
       "      <th>hp</th>\n",
       "      <th>maxhp</th>\n",
       "      <th>attack</th>\n",
       "      <th>defense</th>\n",
       "      <th>spatk</th>\n",
       "      <th>spdef</th>\n",
       "      <th>speed</th>\n",
       "    </tr>\n",
       "  </thead>\n",
       "  <tbody>\n",
       "    <tr>\n",
       "      <th>0</th>\n",
       "      <td>0</td>\n",
       "      <td>0</td>\n",
       "      <td>Smeargle</td>\n",
       "      <td>60</td>\n",
       "      <td>Normal</td>\n",
       "      <td>None</td>\n",
       "      <td>157</td>\n",
       "      <td>157</td>\n",
       "      <td>50</td>\n",
       "      <td>68</td>\n",
       "      <td>50</td>\n",
       "      <td>80</td>\n",
       "      <td>116</td>\n",
       "    </tr>\n",
       "    <tr>\n",
       "      <th>1</th>\n",
       "      <td>1</td>\n",
       "      <td>0</td>\n",
       "      <td>Smeargle</td>\n",
       "      <td>30</td>\n",
       "      <td>Normal</td>\n",
       "      <td>None</td>\n",
       "      <td>83</td>\n",
       "      <td>83</td>\n",
       "      <td>27</td>\n",
       "      <td>36</td>\n",
       "      <td>27</td>\n",
       "      <td>42</td>\n",
       "      <td>60</td>\n",
       "    </tr>\n",
       "    <tr>\n",
       "      <th>2</th>\n",
       "      <td>2</td>\n",
       "      <td>0</td>\n",
       "      <td>Wailord</td>\n",
       "      <td>57</td>\n",
       "      <td>Water</td>\n",
       "      <td>None</td>\n",
       "      <td>281</td>\n",
       "      <td>281</td>\n",
       "      <td>128</td>\n",
       "      <td>76</td>\n",
       "      <td>128</td>\n",
       "      <td>76</td>\n",
       "      <td>93</td>\n",
       "    </tr>\n",
       "    <tr>\n",
       "      <th>3</th>\n",
       "      <td>2</td>\n",
       "      <td>1</td>\n",
       "      <td>Vileplume</td>\n",
       "      <td>57</td>\n",
       "      <td>Grass</td>\n",
       "      <td>Poison</td>\n",
       "      <td>173</td>\n",
       "      <td>173</td>\n",
       "      <td>116</td>\n",
       "      <td>122</td>\n",
       "      <td>150</td>\n",
       "      <td>128</td>\n",
       "      <td>82</td>\n",
       "    </tr>\n",
       "    <tr>\n",
       "      <th>4</th>\n",
       "      <td>3</td>\n",
       "      <td>0</td>\n",
       "      <td>Armaldo</td>\n",
       "      <td>47</td>\n",
       "      <td>Rock</td>\n",
       "      <td>Bug</td>\n",
       "      <td>144</td>\n",
       "      <td>144</td>\n",
       "      <td>139</td>\n",
       "      <td>115</td>\n",
       "      <td>87</td>\n",
       "      <td>97</td>\n",
       "      <td>64</td>\n",
       "    </tr>\n",
       "  </tbody>\n",
       "</table>\n",
       "</div>"
      ],
      "text/plain": [
       "   trainer_id  place   pokename  pokelevel   type1   type2   hp  maxhp  \\\n",
       "0           0      0   Smeargle         60  Normal    None  157    157   \n",
       "1           1      0   Smeargle         30  Normal    None   83     83   \n",
       "2           2      0    Wailord         57   Water    None  281    281   \n",
       "3           2      1  Vileplume         57   Grass  Poison  173    173   \n",
       "4           3      0    Armaldo         47    Rock     Bug  144    144   \n",
       "\n",
       "   attack  defense  spatk  spdef  speed  \n",
       "0      50       68     50     80    116  \n",
       "1      27       36     27     42     60  \n",
       "2     128       76    128     76     93  \n",
       "3     116      122    150    128     82  \n",
       "4     139      115     87     97     64  "
      ]
     },
     "execution_count": 13,
     "metadata": {},
     "output_type": "execute_result"
    }
   ],
   "source": [
    "df.head()"
   ]
  },
  {
   "cell_type": "code",
   "execution_count": null,
   "metadata": {},
   "outputs": [],
   "source": []
  }
 ],
 "metadata": {
  "kernelspec": {
   "display_name": "Python 3",
   "language": "python",
   "name": "python3"
  },
  "language_info": {
   "codemirror_mode": {
    "name": "ipython",
    "version": 3
   },
   "file_extension": ".py",
   "mimetype": "text/x-python",
   "name": "python",
   "nbconvert_exporter": "python",
   "pygments_lexer": "ipython3",
   "version": "3.7.4"
  }
 },
 "nbformat": 4,
 "nbformat_minor": 2
}
